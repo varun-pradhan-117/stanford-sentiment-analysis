{
 "metadata": {
  "language_info": {
   "codemirror_mode": {
    "name": "ipython",
    "version": 3
   },
   "file_extension": ".py",
   "mimetype": "text/x-python",
   "name": "python",
   "nbconvert_exporter": "python",
   "pygments_lexer": "ipython3",
   "version": "3.9.5"
  },
  "orig_nbformat": 4,
  "kernelspec": {
   "name": "python3",
   "display_name": "Python 3.9.5 64-bit ('pytorch-gpu': conda)"
  },
  "interpreter": {
   "hash": "6394067025e7b58be91336a97fabd7e0edf63c22e0826aa98dafbee925a98393"
  }
 },
 "nbformat": 4,
 "nbformat_minor": 2,
 "cells": [
  {
   "cell_type": "code",
   "execution_count": 1,
   "metadata": {},
   "outputs": [],
   "source": [
    "import torch\n",
    "import torchvision # provide access to datasets, models, transforms, utils, etc\n",
    "import torchvision.transforms as transforms"
   ]
  },
  {
   "cell_type": "code",
   "execution_count": 2,
   "metadata": {},
   "outputs": [],
   "source": [
    "import numpy as np\n",
    "import pandas as pd \n",
    "from bs4 import BeautifulSoup\n",
    "import re\n",
    "import matplotlib.pyplot as plt\n",
    "import nltk"
   ]
  },
  {
   "cell_type": "code",
   "execution_count": 3,
   "metadata": {},
   "outputs": [],
   "source": [
    "from nltk.corpus import stopwords,wordnet\n",
    "from nltk.tokenize import word_tokenize\n",
    "from nltk.stem.porter import PorterStemmer\n",
    "from nltk.stem import WordNetLemmatizer"
   ]
  },
  {
   "cell_type": "code",
   "execution_count": 4,
   "metadata": {},
   "outputs": [
    {
     "output_type": "execute_result",
     "data": {
      "text/plain": [
       "'\\n# Load data\\nimport pytreebank\\nimport sys\\nimport os\\n\\nout_path = os.path.join(sys.path[0], \\'data/sst_{}.txt\\')\\ndataset = pytreebank.load_sst()\\n\\n# Store train, dev and test in separate files\\nfor category in [\\'train\\', \\'test\\', \\'dev\\']:\\n    with open(out_path.format(category), \\'w\\') as outfile:\\n        for item in dataset[category]:\\n            outfile.write(f\"{item.to_labeled_lines()[0][0]}\\t{item.to_labeled_lines()[0][1]}\\n\")\\n# Print the length of the training set\\nprint(len(dataset[\\'train\\']))\\n'"
      ]
     },
     "metadata": {},
     "execution_count": 4
    }
   ],
   "source": [
    "'''\n",
    "# Load data\n",
    "import pytreebank\n",
    "import sys\n",
    "import os\n",
    "\n",
    "out_path = os.path.join(sys.path[0], 'data/sst_{}.txt')\n",
    "dataset = pytreebank.load_sst()\n",
    "\n",
    "# Store train, dev and test in separate files\n",
    "for category in ['train', 'test', 'dev']:\n",
    "    with open(out_path.format(category), 'w') as outfile:\n",
    "        for item in dataset[category]:\n",
    "            outfile.write(f\"{item.to_labeled_lines()[0][0]}\\t{item.to_labeled_lines()[0][1]}\\n\")\n",
    "# Print the length of the training set\n",
    "print(len(dataset['train']))\n",
    "'''"
   ]
  },
  {
   "cell_type": "code",
   "execution_count": 5,
   "metadata": {},
   "outputs": [
    {
     "output_type": "execute_result",
     "data": {
      "text/plain": [
       "'\\nout_path=os.path.join(sys.path[0],\\'phrase_data\\\\sst_phrase_{}.txt\\')\\nfor category in [\\'train\\',\\'test\\',\\'dev\\']:\\n    with open(out_path.format(category),\\'w\\') as outfile:\\n        for item in dataset[category]:\\n            for label, sentence in item.to_labeled_lines():\\n                outfile.write(f\"{label}\\t{sentence}\\n\")\\n'"
      ]
     },
     "metadata": {},
     "execution_count": 5
    }
   ],
   "source": [
    "'''\n",
    "out_path=os.path.join(sys.path[0],'phrase_data\\\\sst_phrase_{}.txt')\n",
    "for category in ['train','test','dev']:\n",
    "    with open(out_path.format(category),'w') as outfile:\n",
    "        for item in dataset[category]:\n",
    "            for label, sentence in item.to_labeled_lines():\n",
    "                outfile.write(f\"{label}\\t{sentence}\\n\")\n",
    "'''"
   ]
  },
  {
   "cell_type": "code",
   "execution_count": 6,
   "metadata": {},
   "outputs": [],
   "source": [
    "train_df=pd.read_csv('data/sst_train.txt', names=['label','text'],sep='\\t')\n",
    "test_df=pd.read_csv('data/sst_test.txt',names=['label','text'],sep='\\t')\n",
    "val_df=pd.read_csv('data/sst_dev.txt',names=['label','text'],sep='\\t')"
   ]
  },
  {
   "source": [
    "## Text Preprocessing"
   ],
   "cell_type": "markdown",
   "metadata": {}
  },
  {
   "cell_type": "code",
   "execution_count": 7,
   "metadata": {},
   "outputs": [],
   "source": [
    "#get stopword list\n",
    "sw_list=stopwords.words('english')"
   ]
  },
  {
   "cell_type": "code",
   "execution_count": 8,
   "metadata": {},
   "outputs": [],
   "source": [
    "sw_list.remove('not')\n",
    "sw_list.remove('no')\n",
    "sw_list.remove('against')"
   ]
  },
  {
   "cell_type": "code",
   "execution_count": 9,
   "metadata": {},
   "outputs": [],
   "source": [
    "#Initialize lemmatizer\n",
    "lemmatizer=WordNetLemmatizer()"
   ]
  },
  {
   "cell_type": "code",
   "execution_count": 10,
   "metadata": {},
   "outputs": [],
   "source": [
    "#Get nltk tag for lemmatizing a given token\n",
    "def nltk_wn_tag(nltk_tag):\n",
    "  if nltk_tag.startswith('J'):\n",
    "    return wordnet.ADJ\n",
    "  elif nltk_tag.startswith('V'):\n",
    "    return wordnet.VERB\n",
    "  elif nltk_tag.startswith('N'):\n",
    "    return wordnet.NOUN\n",
    "  elif nltk_tag.startswith('R'):\n",
    "    return wordnet.ADV\n",
    "  else:                    \n",
    "    return None"
   ]
  },
  {
   "cell_type": "code",
   "execution_count": 11,
   "metadata": {},
   "outputs": [],
   "source": [
    "# Function to lemmatize a sentence\n",
    "def lemmatize_sentence(sentence):\n",
    "    tagged = nltk.pos_tag(nltk.word_tokenize(sentence))\n",
    "    wordnet_tagged = map(lambda x: (x[0], nltk_wn_tag(x[1])), tagged)\n",
    "    lemmatized_words=[]\n",
    "    for word, tag in wordnet_tagged:\n",
    "        if word not in sw_list:\n",
    "            if tag is None:                        \n",
    "                lemmatized_words.append(word)\n",
    "            else:\n",
    "                lemmatized_words.append(lemmatizer.lemmatize(word, tag))\n",
    "    return \" \".join(lemmatized_words)"
   ]
  },
  {
   "cell_type": "code",
   "execution_count": 12,
   "metadata": {},
   "outputs": [],
   "source": [
    "def clean_texts(text):\n",
    "    #remove URLs\n",
    "    text = re.sub(r\"https?://[A-Za-z0-9./]+\", ' ', text)\n",
    "    #remove special characters\n",
    "    text = re.sub(r\"[^a-zA-Z]\", ' ', text)\n",
    "    #convert to lower case\n",
    "    text=text.lower()\n",
    "    #remove extra white spaces\n",
    "    text = re.sub(r\" +\",' ', text)\n",
    "    #lemmatization of tweet and removing stopwords\n",
    "    lemmatized_text=lemmatize_sentence(text)\n",
    "    #remove extra white spaces\n",
    "    text = re.sub(r\" +\", ' ', text)\n",
    "    return lemmatized_text.strip()"
   ]
  },
  {
   "cell_type": "code",
   "execution_count": 13,
   "metadata": {},
   "outputs": [],
   "source": [
    "train_df['text']=[clean_texts(sentences) for sentences in train_df['text']]\n"
   ]
  },
  {
   "cell_type": "code",
   "execution_count": 14,
   "metadata": {},
   "outputs": [],
   "source": [
    "test_df['text']=[clean_texts(sentences) for sentences in test_df['text']]\n",
    "val_df['text']=[clean_texts(sentences) for sentences in val_df['text']]"
   ]
  },
  {
   "cell_type": "code",
   "execution_count": 15,
   "metadata": {},
   "outputs": [
    {
     "output_type": "execute_result",
     "data": {
      "text/plain": [
       "label     0\n",
       "text     11\n",
       "dtype: int64"
      ]
     },
     "metadata": {},
     "execution_count": 15
    }
   ],
   "source": [
    "train_df.eq('').sum()"
   ]
  },
  {
   "source": [
    "### Discarding empty rows"
   ],
   "cell_type": "markdown",
   "metadata": {}
  },
  {
   "cell_type": "code",
   "execution_count": 16,
   "metadata": {},
   "outputs": [
    {
     "output_type": "execute_result",
     "data": {
      "text/plain": [
       "label    0\n",
       "text     0\n",
       "dtype: int64"
      ]
     },
     "metadata": {},
     "execution_count": 16
    }
   ],
   "source": [
    "train_df.replace(\"\",np.nan,inplace=True)\n",
    "train_df.dropna(subset=['text'],inplace=True)\n",
    "train_df.reset_index(drop=True,inplace=True)\n",
    "train_df.eq('').sum()"
   ]
  },
  {
   "cell_type": "code",
   "execution_count": 17,
   "metadata": {},
   "outputs": [
    {
     "output_type": "execute_result",
     "data": {
      "text/plain": [
       "label    0\n",
       "text     0\n",
       "dtype: int64"
      ]
     },
     "metadata": {},
     "execution_count": 17
    }
   ],
   "source": [
    "test_df.replace(\"\",np.nan,inplace=True)\n",
    "test_df.dropna(subset=['text'],inplace=True)\n",
    "test_df.reset_index(drop=True,inplace=True)\n",
    "test_df.eq('').sum()"
   ]
  },
  {
   "cell_type": "code",
   "execution_count": 18,
   "metadata": {},
   "outputs": [
    {
     "output_type": "execute_result",
     "data": {
      "text/plain": [
       "label    0\n",
       "text     0\n",
       "dtype: int64"
      ]
     },
     "metadata": {},
     "execution_count": 18
    }
   ],
   "source": [
    "val_df.replace(\"\",np.nan,inplace=True)\n",
    "val_df.dropna(subset=['text'],inplace=True)\n",
    "val_df.reset_index(drop=True,inplace=True)\n",
    "val_df.eq('').sum()"
   ]
  },
  {
   "source": [
    "## TF-IDF Vectorization"
   ],
   "cell_type": "markdown",
   "metadata": {}
  },
  {
   "cell_type": "code",
   "execution_count": 19,
   "metadata": {},
   "outputs": [],
   "source": [
    "from sklearn.feature_extraction.text import TfidfVectorizer\n",
    "tfidf_vect=TfidfVectorizer(max_features=6000)\n",
    "train_tfidf=pd.DataFrame(tfidf_vect.fit_transform(train_df['text']).toarray())\n",
    "train_df=train_df.join(train_tfidf)"
   ]
  },
  {
   "cell_type": "code",
   "execution_count": 20,
   "metadata": {},
   "outputs": [],
   "source": [
    "test_tfidf=pd.DataFrame(tfidf_vect.transform(test_df['text']).toarray())\n",
    "test_df=test_df.join(test_tfidf)"
   ]
  },
  {
   "cell_type": "code",
   "execution_count": 21,
   "metadata": {},
   "outputs": [],
   "source": [
    "val_tfidf=pd.DataFrame(tfidf_vect.transform(val_df['text']).toarray())\n",
    "val_df=val_df.join(val_tfidf)"
   ]
  },
  {
   "source": [
    "## Create dataset class"
   ],
   "cell_type": "markdown",
   "metadata": {}
  },
  {
   "cell_type": "code",
   "execution_count": 22,
   "metadata": {},
   "outputs": [],
   "source": [
    "from torch.utils.data import DataLoader,Dataset\n",
    "class texts_dataset(Dataset):\n",
    "    def __init__(self,dataframe):\n",
    "        self.tfidf=torch.tensor(dataframe.iloc[:,2:].values).float()\n",
    "        self.labels=torch.tensor(dataframe.iloc[:,0].values).float()\n",
    "        self.text=list(dataframe['text'])\n",
    "\n",
    "    def __getitem__(self,i):\n",
    "        return (self.tfidf[i],self.labels[i],self.text[i])\n",
    "\n",
    "    def __len__(self):\n",
    "        return len(self.labels)"
   ]
  },
  {
   "cell_type": "code",
   "execution_count": 23,
   "metadata": {},
   "outputs": [],
   "source": [
    "train_data=texts_dataset(train_df)"
   ]
  },
  {
   "cell_type": "code",
   "execution_count": 24,
   "metadata": {},
   "outputs": [],
   "source": [
    "val_data=texts_dataset(val_df)"
   ]
  },
  {
   "cell_type": "code",
   "execution_count": 25,
   "metadata": {},
   "outputs": [],
   "source": [
    "def get_num_correct(preds, labels):\n",
    "  return preds.argmax(dim=1).eq(labels).sum().item()"
   ]
  },
  {
   "cell_type": "code",
   "execution_count": 26,
   "metadata": {},
   "outputs": [],
   "source": [
    "import torch.nn as nn\n",
    "import torch.nn.functional as F"
   ]
  },
  {
   "cell_type": "code",
   "execution_count": 27,
   "metadata": {},
   "outputs": [
    {
     "output_type": "execute_result",
     "data": {
      "text/plain": [
       "(8533, 6002)"
      ]
     },
     "metadata": {},
     "execution_count": 27
    }
   ],
   "source": [
    "train_df.shape"
   ]
  },
  {
   "cell_type": "code",
   "execution_count": 28,
   "metadata": {},
   "outputs": [],
   "source": [
    "INPUT_SHAPE=6000"
   ]
  },
  {
   "source": [
    "## Define FFN model"
   ],
   "cell_type": "markdown",
   "metadata": {}
  },
  {
   "cell_type": "code",
   "execution_count": 29,
   "metadata": {},
   "outputs": [],
   "source": [
    "class FFN(nn.Module):\n",
    "    def __init__(self):\n",
    "        super().__init__()\n",
    "        self.fc1=nn.Linear(in_features=INPUT_SHAPE,out_features=64)\n",
    "        self.dropout=nn.Dropout(p=0.2)\n",
    "        self.fc2=nn.Linear(in_features=64,out_features=32)\n",
    "        self.out=nn.Linear(in_features=32,out_features=5)\n",
    "    \n",
    "    def forward(self,t):\n",
    "        # Input layer\n",
    "        t=self.fc1(t)\n",
    "        t=F.relu(t)\n",
    "\n",
    "        # Dropout layer\n",
    "        t=self.dropout(t)\n",
    "\n",
    "        # Hidden layer\n",
    "        t=self.fc2(t)\n",
    "        t=F.relu(t)\n",
    "\n",
    "        # Output layer\n",
    "        t=self.out(t)\n",
    "\n",
    "        return t"
   ]
  },
  {
   "cell_type": "code",
   "execution_count": 30,
   "metadata": {},
   "outputs": [],
   "source": [
    "import torch.optim as optim"
   ]
  },
  {
   "cell_type": "code",
   "execution_count": 31,
   "metadata": {},
   "outputs": [],
   "source": [
    "val_features=torch.tensor(test_df.iloc[:,2:].values).float()\n",
    "val_labels=torch.tensor(test_df.iloc[:,0].values).float()"
   ]
  },
  {
   "cell_type": "code",
   "execution_count": 32,
   "metadata": {},
   "outputs": [],
   "source": [
    "train_loader = torch.utils.data.DataLoader(train_data\n",
    "    ,batch_size=32\n",
    "    ,shuffle=True\n",
    ")\n",
    "val_loader= torch.utils.data.DataLoader(val_data,batch_size=32)"
   ]
  },
  {
   "cell_type": "code",
   "execution_count": 33,
   "metadata": {},
   "outputs": [],
   "source": [
    "prev_val_loss=np.inf"
   ]
  },
  {
   "source": [
    "## Create model object and train"
   ],
   "cell_type": "markdown",
   "metadata": {}
  },
  {
   "cell_type": "code",
   "execution_count": 50,
   "metadata": {},
   "outputs": [
    {
     "output_type": "stream",
     "name": "stdout",
     "text": [
      "Epoch =  1 | Loss =  387.81315636634827 | Training Accuracy =  0.3584905660377358 | Val_correct = 445/1098 | Val_loss =  47.55988955497742\n",
      "------------------------------------------------------------------------------------------------------------------------------------------------------\n",
      "Epoch =  2 | Loss =  312.5702924132347 | Training Accuracy =  0.48165943982186804 | Val_correct = 425/1098 | Val_loss =  49.93042039871216\n",
      "------------------------------------------------------------------------------------------------------------------------------------------------------\n",
      "Epoch =  3 | Loss =  239.4446536898613 | Training Accuracy =  0.6181882104769718 | Val_correct = 392/1098 | Val_loss =  57.93867075443268\n",
      "------------------------------------------------------------------------------------------------------------------------------------------------------\n",
      "Epoch =  4 | Loss =  185.12125924229622 | Training Accuracy =  0.7187390132427048 | Val_correct = 399/1098 | Val_loss =  68.10249996185303\n",
      "------------------------------------------------------------------------------------------------------------------------------------------------------\n",
      "Epoch =  5 | Loss =  150.1114074587822 | Training Accuracy =  0.7774522442282902 | Val_correct = 401/1098 | Val_loss =  75.50250947475433\n",
      "------------------------------------------------------------------------------------------------------------------------------------------------------\n",
      "Epoch =  6 | Loss =  122.55946896970272 | Training Accuracy =  0.8237431149654283 | Val_correct = 404/1098 | Val_loss =  85.35891532897949\n",
      "------------------------------------------------------------------------------------------------------------------------------------------------------\n",
      "Epoch =  7 | Loss =  98.89154577255249 | Training Accuracy =  0.8614789640220321 | Val_correct = 396/1098 | Val_loss =  98.18828678131104\n",
      "------------------------------------------------------------------------------------------------------------------------------------------------------\n",
      "Epoch =  8 | Loss =  91.96031655371189 | Training Accuracy =  0.8754248212820813 | Val_correct = 381/1098 | Val_loss =  97.80936008691788\n",
      "------------------------------------------------------------------------------------------------------------------------------------------------------\n",
      "Epoch =  9 | Loss =  82.06524430960417 | Training Accuracy =  0.887729989452713 | Val_correct = 394/1098 | Val_loss =  102.25181293487549\n",
      "------------------------------------------------------------------------------------------------------------------------------------------------------\n",
      "Epoch =  10 | Loss =  74.13382057100534 | Training Accuracy =  0.9003867338567912 | Val_correct = 425/1098 | Val_loss =  108.99224931001663\n",
      "------------------------------------------------------------------------------------------------------------------------------------------------------\n",
      "Epoch =  11 | Loss =  70.20971742644906 | Training Accuracy =  0.9060119535919372 | Val_correct = 406/1098 | Val_loss =  113.18071985244751\n",
      "------------------------------------------------------------------------------------------------------------------------------------------------------\n",
      "Epoch =  12 | Loss =  64.1009720377624 | Training Accuracy =  0.9158560881284425 | Val_correct = 417/1098 | Val_loss =  115.30134040117264\n",
      "------------------------------------------------------------------------------------------------------------------------------------------------------\n",
      "Epoch =  13 | Loss =  62.19131880439818 | Training Accuracy =  0.9183171217625689 | Val_correct = 398/1098 | Val_loss =  111.49825066328049\n",
      "------------------------------------------------------------------------------------------------------------------------------------------------------\n",
      "Epoch =  14 | Loss =  59.15078556910157 | Training Accuracy =  0.9228876127973749 | Val_correct = 414/1098 | Val_loss =  115.7422513961792\n",
      "------------------------------------------------------------------------------------------------------------------------------------------------------\n",
      "Epoch =  15 | Loss =  55.509445026516914 | Training Accuracy =  0.9273409117543654 | Val_correct = 392/1098 | Val_loss =  117.68341028690338\n",
      "------------------------------------------------------------------------------------------------------------------------------------------------------\n",
      "Epoch =  16 | Loss =  49.16250787768513 | Training Accuracy =  0.9316770186335404 | Val_correct = 407/1098 | Val_loss =  127.23413705825806\n",
      "------------------------------------------------------------------------------------------------------------------------------------------------------\n",
      "Epoch =  17 | Loss =  49.66259751468897 | Training Accuracy =  0.9374194304465018 | Val_correct = 384/1098 | Val_loss =  127.79627400636673\n",
      "------------------------------------------------------------------------------------------------------------------------------------------------------\n",
      "Epoch =  18 | Loss =  49.6396460942924 | Training Accuracy =  0.9341380522676667 | Val_correct = 404/1098 | Val_loss =  125.27803099155426\n",
      "------------------------------------------------------------------------------------------------------------------------------------------------------\n",
      "Epoch =  19 | Loss =  46.893976313993335 | Training Accuracy =  0.9369506621352397 | Val_correct = 387/1098 | Val_loss =  131.23789405822754\n",
      "------------------------------------------------------------------------------------------------------------------------------------------------------\n",
      "Epoch =  20 | Loss =  52.23096774145961 | Training Accuracy =  0.9321457869448025 | Val_correct = 411/1098 | Val_loss =  133.7672837972641\n",
      "------------------------------------------------------------------------------------------------------------------------------------------------------\n"
     ]
    }
   ],
   "source": [
    "# Create FFN object\n",
    "network=FFN()\n",
    "min_val_loss=np.inf\n",
    "# Define optimizer\n",
    "optimizer=optim.Adam(network.parameters(),lr=0.02)\n",
    "for epoch in range(20):\n",
    "    total_loss=0\n",
    "    total_correct=0\n",
    "    epoch_val_loss=0\n",
    "    val_correct=0\n",
    "    network.train()\n",
    "    for batch in train_loader:\n",
    "        features,labels,text=batch\n",
    "        preds=network(features)\n",
    "        loss=F.cross_entropy(preds,labels.long())\n",
    "        optimizer.zero_grad()\n",
    "        loss.backward()\n",
    "        optimizer.step()\n",
    "        total_loss+=loss.item()\n",
    "        total_correct+=get_num_correct(preds,labels)\n",
    "    network.eval()\n",
    "    with torch.no_grad():\n",
    "        for data,val_labels,val_text in val_loader:\n",
    "            val_preds=network(data)\n",
    "            val_loss=F.cross_entropy(val_preds,val_labels.long())\n",
    "            val_correct+=get_num_correct(val_preds,val_labels)\n",
    "            epoch_val_loss+=val_loss.item()\n",
    "\n",
    "    \n",
    "    print(\n",
    "        \"Epoch = \",epoch+1,\n",
    "        \"| Loss = \",total_loss,\n",
    "        \"| Training Accuracy = \",total_correct/len(train_data),\n",
    "        f\"| Val_correct = {val_correct}/{len(val_df)}\",\n",
    "        \"| Val_loss = \",epoch_val_loss,\n",
    "    )\n",
    "    print(\"-\"*150)\n"
   ]
  },
  {
   "source": [
    "## Evaluate"
   ],
   "cell_type": "markdown",
   "metadata": {}
  },
  {
   "cell_type": "code",
   "execution_count": 51,
   "metadata": {},
   "outputs": [
    {
     "output_type": "execute_result",
     "data": {
      "text/plain": [
       "FFN(\n",
       "  (fc1): Linear(in_features=6000, out_features=64, bias=True)\n",
       "  (dropout): Dropout(p=0.2, inplace=False)\n",
       "  (fc2): Linear(in_features=64, out_features=32, bias=True)\n",
       "  (out): Linear(in_features=32, out_features=5, bias=True)\n",
       ")"
      ]
     },
     "metadata": {},
     "execution_count": 51
    }
   ],
   "source": [
    "network.eval()"
   ]
  },
  {
   "cell_type": "code",
   "execution_count": 52,
   "metadata": {},
   "outputs": [],
   "source": [
    "with torch.no_grad():\n",
    "    final_preds=network(torch.tensor(test_df.iloc[:,2:].values).float())"
   ]
  },
  {
   "cell_type": "code",
   "execution_count": 53,
   "metadata": {},
   "outputs": [
    {
     "output_type": "execute_result",
     "data": {
      "text/plain": [
       "0.37771739130434784"
      ]
     },
     "metadata": {},
     "execution_count": 53
    }
   ],
   "source": [
    "get_num_correct(final_preds,torch.tensor(test_df.iloc[:,0].values).float())/len(final_preds)"
   ]
  },
  {
   "cell_type": "code",
   "execution_count": 54,
   "metadata": {},
   "outputs": [
    {
     "output_type": "execute_result",
     "data": {
      "text/plain": [
       "tensor([2., 3., 4.,  ..., 4., 3., 0.])"
      ]
     },
     "metadata": {},
     "execution_count": 54
    }
   ],
   "source": [
    "torch.tensor(test_df.iloc[:,0].values).float()"
   ]
  },
  {
   "cell_type": "code",
   "execution_count": 61,
   "metadata": {},
   "outputs": [],
   "source": [
    "from sklearn.metrics import classification_report,confusion_matrix,accuracy_score, f1_score"
   ]
  },
  {
   "cell_type": "code",
   "execution_count": 56,
   "metadata": {},
   "outputs": [],
   "source": [
    "final_pred_labels=final_preds.argmax(dim=1)"
   ]
  },
  {
   "cell_type": "code",
   "execution_count": 57,
   "metadata": {},
   "outputs": [
    {
     "output_type": "stream",
     "name": "stdout",
     "text": [
      "0.37771739130434784\n"
     ]
    }
   ],
   "source": [
    "print(accuracy_score(torch.tensor(test_df.iloc[:,0].values).float(),final_pred_labels))"
   ]
  },
  {
   "cell_type": "code",
   "execution_count": 58,
   "metadata": {},
   "outputs": [
    {
     "output_type": "execute_result",
     "data": {
      "text/plain": [
       "array([[ 43, 164,  37,  34,   1],\n",
       "       [ 61, 333, 121, 114,   4],\n",
       "       [ 16, 148,  97, 117,   9],\n",
       "       [  5, 108,  79, 278,  40],\n",
       "       [  8,  35,  50, 223,  83]], dtype=int64)"
      ]
     },
     "metadata": {},
     "execution_count": 58
    }
   ],
   "source": [
    "cm=confusion_matrix(torch.tensor(test_df.iloc[:,0].values).float(),final_pred_labels)\n",
    "cm"
   ]
  },
  {
   "cell_type": "code",
   "execution_count": 59,
   "metadata": {},
   "outputs": [],
   "source": [
    "import seaborn as sns"
   ]
  },
  {
   "cell_type": "code",
   "execution_count": 60,
   "metadata": {},
   "outputs": [
    {
     "output_type": "execute_result",
     "data": {
      "text/plain": [
       "<AxesSubplot:>"
      ]
     },
     "metadata": {},
     "execution_count": 60
    },
    {
     "output_type": "display_data",
     "data": {
      "text/plain": "<Figure size 720x504 with 2 Axes>",
      "image/svg+xml": "<?xml version=\"1.0\" encoding=\"utf-8\" standalone=\"no\"?>\r\n<!DOCTYPE svg PUBLIC \"-//W3C//DTD SVG 1.1//EN\"\r\n  \"http://www.w3.org/Graphics/SVG/1.1/DTD/svg11.dtd\">\r\n<svg height=\"411.598125pt\" version=\"1.1\" viewBox=\"0 0 550.491625 411.598125\" width=\"550.491625pt\" xmlns=\"http://www.w3.org/2000/svg\" xmlns:xlink=\"http://www.w3.org/1999/xlink\">\r\n <metadata>\r\n  <rdf:RDF xmlns:cc=\"http://creativecommons.org/ns#\" xmlns:dc=\"http://purl.org/dc/elements/1.1/\" xmlns:rdf=\"http://www.w3.org/1999/02/22-rdf-syntax-ns#\">\r\n   <cc:Work>\r\n    <dc:type rdf:resource=\"http://purl.org/dc/dcmitype/StillImage\"/>\r\n    <dc:date>2021-07-20T07:51:58.073324</dc:date>\r\n    <dc:format>image/svg+xml</dc:format>\r\n    <dc:creator>\r\n     <cc:Agent>\r\n      <dc:title>Matplotlib v3.4.2, https://matplotlib.org/</dc:title>\r\n     </cc:Agent>\r\n    </dc:creator>\r\n   </cc:Work>\r\n  </rdf:RDF>\r\n </metadata>\r\n <defs>\r\n  <style type=\"text/css\">*{stroke-linecap:butt;stroke-linejoin:round;}</style>\r\n </defs>\r\n <g id=\"figure_1\">\r\n  <g id=\"patch_1\">\r\n   <path d=\"M 0 411.598125 \r\nL 550.491625 411.598125 \r\nL 550.491625 0 \r\nL 0 0 \r\nz\r\n\" style=\"fill:none;\"/>\r\n  </g>\r\n  <g id=\"axes_1\">\r\n   <g id=\"patch_2\">\r\n    <path d=\"M 23.878125 387.72 \r\nL 470.278125 387.72 \r\nL 470.278125 7.2 \r\nL 23.878125 7.2 \r\nz\r\n\" style=\"fill:#ffffff;\"/>\r\n   </g>\r\n   <g id=\"QuadMesh_1\">\r\n    <path clip-path=\"url(#p06f307a66f)\" d=\"M 23.878125 7.2 \r\nL 113.158125 7.2 \r\nL 113.158125 83.304 \r\nL 23.878125 83.304 \r\nL 23.878125 7.2 \r\n\" style=\"fill:#30173a;\"/>\r\n    <path clip-path=\"url(#p06f307a66f)\" d=\"M 113.158125 7.2 \r\nL 202.438125 7.2 \r\nL 202.438125 83.304 \r\nL 113.158125 83.304 \r\nL 113.158125 7.2 \r\n\" style=\"fill:#c71951;\"/>\r\n    <path clip-path=\"url(#p06f307a66f)\" d=\"M 202.438125 7.2 \r\nL 291.718125 7.2 \r\nL 291.718125 83.304 \r\nL 202.438125 83.304 \r\nL 202.438125 7.2 \r\n\" style=\"fill:#281535;\"/>\r\n    <path clip-path=\"url(#p06f307a66f)\" d=\"M 291.718125 7.2 \r\nL 380.998125 7.2 \r\nL 380.998125 83.304 \r\nL 291.718125 83.304 \r\nL 291.718125 7.2 \r\n\" style=\"fill:#251433;\"/>\r\n    <path clip-path=\"url(#p06f307a66f)\" d=\"M 380.998125 7.2 \r\nL 470.278125 7.2 \r\nL 470.278125 83.304 \r\nL 380.998125 83.304 \r\nL 380.998125 7.2 \r\n\" style=\"fill:#03051a;\"/>\r\n    <path clip-path=\"url(#p06f307a66f)\" d=\"M 23.878125 83.304 \r\nL 113.158125 83.304 \r\nL 113.158125 159.408 \r\nL 23.878125 159.408 \r\nL 23.878125 83.304 \r\n\" style=\"fill:#451c47;\"/>\r\n    <path clip-path=\"url(#p06f307a66f)\" d=\"M 113.158125 83.304 \r\nL 202.438125 83.304 \r\nL 202.438125 159.408 \r\nL 113.158125 159.408 \r\nL 113.158125 83.304 \r\n\" style=\"fill:#faebdd;\"/>\r\n    <path clip-path=\"url(#p06f307a66f)\" d=\"M 202.438125 83.304 \r\nL 291.718125 83.304 \r\nL 291.718125 159.408 \r\nL 202.438125 159.408 \r\nL 202.438125 83.304 \r\n\" style=\"fill:#901d5b;\"/>\r\n    <path clip-path=\"url(#p06f307a66f)\" d=\"M 291.718125 83.304 \r\nL 380.998125 83.304 \r\nL 380.998125 159.408 \r\nL 291.718125 159.408 \r\nL 291.718125 83.304 \r\n\" style=\"fill:#871e5b;\"/>\r\n    <path clip-path=\"url(#p06f307a66f)\" d=\"M 380.998125 83.304 \r\nL 470.278125 83.304 \r\nL 470.278125 159.408 \r\nL 380.998125 159.408 \r\nL 380.998125 83.304 \r\n\" style=\"fill:#05061b;\"/>\r\n    <path clip-path=\"url(#p06f307a66f)\" d=\"M 23.878125 159.408 \r\nL 113.158125 159.408 \r\nL 113.158125 235.512 \r\nL 23.878125 235.512 \r\nL 23.878125 159.408 \r\n\" style=\"fill:#110c24;\"/>\r\n    <path clip-path=\"url(#p06f307a66f)\" d=\"M 113.158125 159.408 \r\nL 202.438125 159.408 \r\nL 202.438125 235.512 \r\nL 113.158125 235.512 \r\nL 113.158125 159.408 \r\n\" style=\"fill:#b41658;\"/>\r\n    <path clip-path=\"url(#p06f307a66f)\" d=\"M 202.438125 159.408 \r\nL 291.718125 159.408 \r\nL 291.718125 235.512 \r\nL 202.438125 235.512 \r\nL 202.438125 159.408 \r\n\" style=\"fill:#711f57;\"/>\r\n    <path clip-path=\"url(#p06f307a66f)\" d=\"M 291.718125 159.408 \r\nL 380.998125 159.408 \r\nL 380.998125 235.512 \r\nL 291.718125 235.512 \r\nL 291.718125 159.408 \r\n\" style=\"fill:#8b1d5b;\"/>\r\n    <path clip-path=\"url(#p06f307a66f)\" d=\"M 380.998125 159.408 \r\nL 470.278125 159.408 \r\nL 470.278125 235.512 \r\nL 380.998125 235.512 \r\nL 380.998125 159.408 \r\n\" style=\"fill:#0a091f;\"/>\r\n    <path clip-path=\"url(#p06f307a66f)\" d=\"M 23.878125 235.512 \r\nL 113.158125 235.512 \r\nL 113.158125 311.616 \r\nL 23.878125 311.616 \r\nL 23.878125 235.512 \r\n\" style=\"fill:#06071c;\"/>\r\n    <path clip-path=\"url(#p06f307a66f)\" d=\"M 113.158125 235.512 \r\nL 202.438125 235.512 \r\nL 202.438125 311.616 \r\nL 113.158125 311.616 \r\nL 113.158125 235.512 \r\n\" style=\"fill:#7f1e5a;\"/>\r\n    <path clip-path=\"url(#p06f307a66f)\" d=\"M 202.438125 235.512 \r\nL 291.718125 235.512 \r\nL 291.718125 311.616 \r\nL 202.438125 311.616 \r\nL 202.438125 235.512 \r\n\" style=\"fill:#5b1e51;\"/>\r\n    <path clip-path=\"url(#p06f307a66f)\" d=\"M 291.718125 235.512 \r\nL 380.998125 235.512 \r\nL 380.998125 311.616 \r\nL 291.718125 311.616 \r\nL 291.718125 235.512 \r\n\" style=\"fill:#f6ab83;\"/>\r\n    <path clip-path=\"url(#p06f307a66f)\" d=\"M 380.998125 235.512 \r\nL 470.278125 235.512 \r\nL 470.278125 311.616 \r\nL 380.998125 311.616 \r\nL 380.998125 235.512 \r\n\" style=\"fill:#2d1738;\"/>\r\n    <path clip-path=\"url(#p06f307a66f)\" d=\"M 23.878125 311.616 \r\nL 113.158125 311.616 \r\nL 113.158125 387.72 \r\nL 23.878125 387.72 \r\nL 23.878125 311.616 \r\n\" style=\"fill:#08081e;\"/>\r\n    <path clip-path=\"url(#p06f307a66f)\" d=\"M 113.158125 311.616 \r\nL 202.438125 311.616 \r\nL 202.438125 387.72 \r\nL 113.158125 387.72 \r\nL 113.158125 311.616 \r\n\" style=\"fill:#271534;\"/>\r\n    <path clip-path=\"url(#p06f307a66f)\" d=\"M 202.438125 311.616 \r\nL 291.718125 311.616 \r\nL 291.718125 387.72 \r\nL 202.438125 387.72 \r\nL 202.438125 311.616 \r\n\" style=\"fill:#37193f;\"/>\r\n    <path clip-path=\"url(#p06f307a66f)\" d=\"M 291.718125 311.616 \r\nL 380.998125 311.616 \r\nL 380.998125 387.72 \r\nL 291.718125 387.72 \r\nL 291.718125 311.616 \r\n\" style=\"fill:#f16244;\"/>\r\n    <path clip-path=\"url(#p06f307a66f)\" d=\"M 380.998125 311.616 \r\nL 470.278125 311.616 \r\nL 470.278125 387.72 \r\nL 380.998125 387.72 \r\nL 380.998125 311.616 \r\n\" style=\"fill:#601f52;\"/>\r\n   </g>\r\n   <g id=\"matplotlib.axis_1\">\r\n    <g id=\"xtick_1\">\r\n     <g id=\"line2d_1\">\r\n      <defs>\r\n       <path d=\"M 0 0 \r\nL 0 3.5 \r\n\" id=\"m5335c95bda\" style=\"stroke:#000000;stroke-width:0.8;\"/>\r\n      </defs>\r\n      <g>\r\n       <use style=\"stroke:#000000;stroke-width:0.8;\" x=\"68.518125\" xlink:href=\"#m5335c95bda\" y=\"387.72\"/>\r\n      </g>\r\n     </g>\r\n     <g id=\"text_1\">\r\n      <!-- 0 -->\r\n      <g transform=\"translate(65.336875 402.318437)scale(0.1 -0.1)\">\r\n       <defs>\r\n        <path d=\"M 2034 4250 \r\nQ 1547 4250 1301 3770 \r\nQ 1056 3291 1056 2328 \r\nQ 1056 1369 1301 889 \r\nQ 1547 409 2034 409 \r\nQ 2525 409 2770 889 \r\nQ 3016 1369 3016 2328 \r\nQ 3016 3291 2770 3770 \r\nQ 2525 4250 2034 4250 \r\nz\r\nM 2034 4750 \r\nQ 2819 4750 3233 4129 \r\nQ 3647 3509 3647 2328 \r\nQ 3647 1150 3233 529 \r\nQ 2819 -91 2034 -91 \r\nQ 1250 -91 836 529 \r\nQ 422 1150 422 2328 \r\nQ 422 3509 836 4129 \r\nQ 1250 4750 2034 4750 \r\nz\r\n\" id=\"DejaVuSans-30\" transform=\"scale(0.015625)\"/>\r\n       </defs>\r\n       <use xlink:href=\"#DejaVuSans-30\"/>\r\n      </g>\r\n     </g>\r\n    </g>\r\n    <g id=\"xtick_2\">\r\n     <g id=\"line2d_2\">\r\n      <g>\r\n       <use style=\"stroke:#000000;stroke-width:0.8;\" x=\"157.798125\" xlink:href=\"#m5335c95bda\" y=\"387.72\"/>\r\n      </g>\r\n     </g>\r\n     <g id=\"text_2\">\r\n      <!-- 1 -->\r\n      <g transform=\"translate(154.616875 402.318437)scale(0.1 -0.1)\">\r\n       <defs>\r\n        <path d=\"M 794 531 \r\nL 1825 531 \r\nL 1825 4091 \r\nL 703 3866 \r\nL 703 4441 \r\nL 1819 4666 \r\nL 2450 4666 \r\nL 2450 531 \r\nL 3481 531 \r\nL 3481 0 \r\nL 794 0 \r\nL 794 531 \r\nz\r\n\" id=\"DejaVuSans-31\" transform=\"scale(0.015625)\"/>\r\n       </defs>\r\n       <use xlink:href=\"#DejaVuSans-31\"/>\r\n      </g>\r\n     </g>\r\n    </g>\r\n    <g id=\"xtick_3\">\r\n     <g id=\"line2d_3\">\r\n      <g>\r\n       <use style=\"stroke:#000000;stroke-width:0.8;\" x=\"247.078125\" xlink:href=\"#m5335c95bda\" y=\"387.72\"/>\r\n      </g>\r\n     </g>\r\n     <g id=\"text_3\">\r\n      <!-- 2 -->\r\n      <g transform=\"translate(243.896875 402.318437)scale(0.1 -0.1)\">\r\n       <defs>\r\n        <path d=\"M 1228 531 \r\nL 3431 531 \r\nL 3431 0 \r\nL 469 0 \r\nL 469 531 \r\nQ 828 903 1448 1529 \r\nQ 2069 2156 2228 2338 \r\nQ 2531 2678 2651 2914 \r\nQ 2772 3150 2772 3378 \r\nQ 2772 3750 2511 3984 \r\nQ 2250 4219 1831 4219 \r\nQ 1534 4219 1204 4116 \r\nQ 875 4013 500 3803 \r\nL 500 4441 \r\nQ 881 4594 1212 4672 \r\nQ 1544 4750 1819 4750 \r\nQ 2544 4750 2975 4387 \r\nQ 3406 4025 3406 3419 \r\nQ 3406 3131 3298 2873 \r\nQ 3191 2616 2906 2266 \r\nQ 2828 2175 2409 1742 \r\nQ 1991 1309 1228 531 \r\nz\r\n\" id=\"DejaVuSans-32\" transform=\"scale(0.015625)\"/>\r\n       </defs>\r\n       <use xlink:href=\"#DejaVuSans-32\"/>\r\n      </g>\r\n     </g>\r\n    </g>\r\n    <g id=\"xtick_4\">\r\n     <g id=\"line2d_4\">\r\n      <g>\r\n       <use style=\"stroke:#000000;stroke-width:0.8;\" x=\"336.358125\" xlink:href=\"#m5335c95bda\" y=\"387.72\"/>\r\n      </g>\r\n     </g>\r\n     <g id=\"text_4\">\r\n      <!-- 3 -->\r\n      <g transform=\"translate(333.176875 402.318437)scale(0.1 -0.1)\">\r\n       <defs>\r\n        <path d=\"M 2597 2516 \r\nQ 3050 2419 3304 2112 \r\nQ 3559 1806 3559 1356 \r\nQ 3559 666 3084 287 \r\nQ 2609 -91 1734 -91 \r\nQ 1441 -91 1130 -33 \r\nQ 819 25 488 141 \r\nL 488 750 \r\nQ 750 597 1062 519 \r\nQ 1375 441 1716 441 \r\nQ 2309 441 2620 675 \r\nQ 2931 909 2931 1356 \r\nQ 2931 1769 2642 2001 \r\nQ 2353 2234 1838 2234 \r\nL 1294 2234 \r\nL 1294 2753 \r\nL 1863 2753 \r\nQ 2328 2753 2575 2939 \r\nQ 2822 3125 2822 3475 \r\nQ 2822 3834 2567 4026 \r\nQ 2313 4219 1838 4219 \r\nQ 1578 4219 1281 4162 \r\nQ 984 4106 628 3988 \r\nL 628 4550 \r\nQ 988 4650 1302 4700 \r\nQ 1616 4750 1894 4750 \r\nQ 2613 4750 3031 4423 \r\nQ 3450 4097 3450 3541 \r\nQ 3450 3153 3228 2886 \r\nQ 3006 2619 2597 2516 \r\nz\r\n\" id=\"DejaVuSans-33\" transform=\"scale(0.015625)\"/>\r\n       </defs>\r\n       <use xlink:href=\"#DejaVuSans-33\"/>\r\n      </g>\r\n     </g>\r\n    </g>\r\n    <g id=\"xtick_5\">\r\n     <g id=\"line2d_5\">\r\n      <g>\r\n       <use style=\"stroke:#000000;stroke-width:0.8;\" x=\"425.638125\" xlink:href=\"#m5335c95bda\" y=\"387.72\"/>\r\n      </g>\r\n     </g>\r\n     <g id=\"text_5\">\r\n      <!-- 4 -->\r\n      <g transform=\"translate(422.456875 402.318437)scale(0.1 -0.1)\">\r\n       <defs>\r\n        <path d=\"M 2419 4116 \r\nL 825 1625 \r\nL 2419 1625 \r\nL 2419 4116 \r\nz\r\nM 2253 4666 \r\nL 3047 4666 \r\nL 3047 1625 \r\nL 3713 1625 \r\nL 3713 1100 \r\nL 3047 1100 \r\nL 3047 0 \r\nL 2419 0 \r\nL 2419 1100 \r\nL 313 1100 \r\nL 313 1709 \r\nL 2253 4666 \r\nz\r\n\" id=\"DejaVuSans-34\" transform=\"scale(0.015625)\"/>\r\n       </defs>\r\n       <use xlink:href=\"#DejaVuSans-34\"/>\r\n      </g>\r\n     </g>\r\n    </g>\r\n   </g>\r\n   <g id=\"matplotlib.axis_2\">\r\n    <g id=\"ytick_1\">\r\n     <g id=\"line2d_6\">\r\n      <defs>\r\n       <path d=\"M 0 0 \r\nL -3.5 0 \r\n\" id=\"m3b38a3a309\" style=\"stroke:#000000;stroke-width:0.8;\"/>\r\n      </defs>\r\n      <g>\r\n       <use style=\"stroke:#000000;stroke-width:0.8;\" x=\"23.878125\" xlink:href=\"#m3b38a3a309\" y=\"45.252\"/>\r\n      </g>\r\n     </g>\r\n     <g id=\"text_6\">\r\n      <!-- 0 -->\r\n      <g transform=\"translate(14.798437 47.815281)rotate(-90)scale(0.1 -0.1)\">\r\n       <use xlink:href=\"#DejaVuSans-30\"/>\r\n      </g>\r\n     </g>\r\n    </g>\r\n    <g id=\"ytick_2\">\r\n     <g id=\"line2d_7\">\r\n      <g>\r\n       <use style=\"stroke:#000000;stroke-width:0.8;\" x=\"23.878125\" xlink:href=\"#m3b38a3a309\" y=\"121.356\"/>\r\n      </g>\r\n     </g>\r\n     <g id=\"text_7\">\r\n      <!-- 1 -->\r\n      <g transform=\"translate(14.798437 123.919281)rotate(-90)scale(0.1 -0.1)\">\r\n       <use xlink:href=\"#DejaVuSans-31\"/>\r\n      </g>\r\n     </g>\r\n    </g>\r\n    <g id=\"ytick_3\">\r\n     <g id=\"line2d_8\">\r\n      <g>\r\n       <use style=\"stroke:#000000;stroke-width:0.8;\" x=\"23.878125\" xlink:href=\"#m3b38a3a309\" y=\"197.46\"/>\r\n      </g>\r\n     </g>\r\n     <g id=\"text_8\">\r\n      <!-- 2 -->\r\n      <g transform=\"translate(14.798437 200.023281)rotate(-90)scale(0.1 -0.1)\">\r\n       <use xlink:href=\"#DejaVuSans-32\"/>\r\n      </g>\r\n     </g>\r\n    </g>\r\n    <g id=\"ytick_4\">\r\n     <g id=\"line2d_9\">\r\n      <g>\r\n       <use style=\"stroke:#000000;stroke-width:0.8;\" x=\"23.878125\" xlink:href=\"#m3b38a3a309\" y=\"273.564\"/>\r\n      </g>\r\n     </g>\r\n     <g id=\"text_9\">\r\n      <!-- 3 -->\r\n      <g transform=\"translate(14.798437 276.127281)rotate(-90)scale(0.1 -0.1)\">\r\n       <use xlink:href=\"#DejaVuSans-33\"/>\r\n      </g>\r\n     </g>\r\n    </g>\r\n    <g id=\"ytick_5\">\r\n     <g id=\"line2d_10\">\r\n      <g>\r\n       <use style=\"stroke:#000000;stroke-width:0.8;\" x=\"23.878125\" xlink:href=\"#m3b38a3a309\" y=\"349.668\"/>\r\n      </g>\r\n     </g>\r\n     <g id=\"text_10\">\r\n      <!-- 4 -->\r\n      <g transform=\"translate(14.798437 352.231281)rotate(-90)scale(0.1 -0.1)\">\r\n       <use xlink:href=\"#DejaVuSans-34\"/>\r\n      </g>\r\n     </g>\r\n    </g>\r\n   </g>\r\n   <g id=\"text_11\">\r\n    <!-- 43 -->\r\n    <g style=\"fill:#ffffff;\" transform=\"translate(62.155625 48.011375)scale(0.1 -0.1)\">\r\n     <use xlink:href=\"#DejaVuSans-34\"/>\r\n     <use x=\"63.623047\" xlink:href=\"#DejaVuSans-33\"/>\r\n    </g>\r\n   </g>\r\n   <g id=\"text_12\">\r\n    <!-- 1.6e+02 -->\r\n    <g style=\"fill:#ffffff;\" transform=\"translate(136.217656 48.011375)scale(0.1 -0.1)\">\r\n     <defs>\r\n      <path d=\"M 684 794 \r\nL 1344 794 \r\nL 1344 0 \r\nL 684 0 \r\nL 684 794 \r\nz\r\n\" id=\"DejaVuSans-2e\" transform=\"scale(0.015625)\"/>\r\n      <path d=\"M 2113 2584 \r\nQ 1688 2584 1439 2293 \r\nQ 1191 2003 1191 1497 \r\nQ 1191 994 1439 701 \r\nQ 1688 409 2113 409 \r\nQ 2538 409 2786 701 \r\nQ 3034 994 3034 1497 \r\nQ 3034 2003 2786 2293 \r\nQ 2538 2584 2113 2584 \r\nz\r\nM 3366 4563 \r\nL 3366 3988 \r\nQ 3128 4100 2886 4159 \r\nQ 2644 4219 2406 4219 \r\nQ 1781 4219 1451 3797 \r\nQ 1122 3375 1075 2522 \r\nQ 1259 2794 1537 2939 \r\nQ 1816 3084 2150 3084 \r\nQ 2853 3084 3261 2657 \r\nQ 3669 2231 3669 1497 \r\nQ 3669 778 3244 343 \r\nQ 2819 -91 2113 -91 \r\nQ 1303 -91 875 529 \r\nQ 447 1150 447 2328 \r\nQ 447 3434 972 4092 \r\nQ 1497 4750 2381 4750 \r\nQ 2619 4750 2861 4703 \r\nQ 3103 4656 3366 4563 \r\nz\r\n\" id=\"DejaVuSans-36\" transform=\"scale(0.015625)\"/>\r\n      <path d=\"M 3597 1894 \r\nL 3597 1613 \r\nL 953 1613 \r\nQ 991 1019 1311 708 \r\nQ 1631 397 2203 397 \r\nQ 2534 397 2845 478 \r\nQ 3156 559 3463 722 \r\nL 3463 178 \r\nQ 3153 47 2828 -22 \r\nQ 2503 -91 2169 -91 \r\nQ 1331 -91 842 396 \r\nQ 353 884 353 1716 \r\nQ 353 2575 817 3079 \r\nQ 1281 3584 2069 3584 \r\nQ 2775 3584 3186 3129 \r\nQ 3597 2675 3597 1894 \r\nz\r\nM 3022 2063 \r\nQ 3016 2534 2758 2815 \r\nQ 2500 3097 2075 3097 \r\nQ 1594 3097 1305 2825 \r\nQ 1016 2553 972 2059 \r\nL 3022 2063 \r\nz\r\n\" id=\"DejaVuSans-65\" transform=\"scale(0.015625)\"/>\r\n      <path d=\"M 2944 4013 \r\nL 2944 2272 \r\nL 4684 2272 \r\nL 4684 1741 \r\nL 2944 1741 \r\nL 2944 0 \r\nL 2419 0 \r\nL 2419 1741 \r\nL 678 1741 \r\nL 678 2272 \r\nL 2419 2272 \r\nL 2419 4013 \r\nL 2944 4013 \r\nz\r\n\" id=\"DejaVuSans-2b\" transform=\"scale(0.015625)\"/>\r\n     </defs>\r\n     <use xlink:href=\"#DejaVuSans-31\"/>\r\n     <use x=\"63.623047\" xlink:href=\"#DejaVuSans-2e\"/>\r\n     <use x=\"95.410156\" xlink:href=\"#DejaVuSans-36\"/>\r\n     <use x=\"159.033203\" xlink:href=\"#DejaVuSans-65\"/>\r\n     <use x=\"220.556641\" xlink:href=\"#DejaVuSans-2b\"/>\r\n     <use x=\"304.345703\" xlink:href=\"#DejaVuSans-30\"/>\r\n     <use x=\"367.96875\" xlink:href=\"#DejaVuSans-32\"/>\r\n    </g>\r\n   </g>\r\n   <g id=\"text_13\">\r\n    <!-- 37 -->\r\n    <g style=\"fill:#ffffff;\" transform=\"translate(240.715625 48.011375)scale(0.1 -0.1)\">\r\n     <defs>\r\n      <path d=\"M 525 4666 \r\nL 3525 4666 \r\nL 3525 4397 \r\nL 1831 0 \r\nL 1172 0 \r\nL 2766 4134 \r\nL 525 4134 \r\nL 525 4666 \r\nz\r\n\" id=\"DejaVuSans-37\" transform=\"scale(0.015625)\"/>\r\n     </defs>\r\n     <use xlink:href=\"#DejaVuSans-33\"/>\r\n     <use x=\"63.623047\" xlink:href=\"#DejaVuSans-37\"/>\r\n    </g>\r\n   </g>\r\n   <g id=\"text_14\">\r\n    <!-- 34 -->\r\n    <g style=\"fill:#ffffff;\" transform=\"translate(329.995625 48.011375)scale(0.1 -0.1)\">\r\n     <use xlink:href=\"#DejaVuSans-33\"/>\r\n     <use x=\"63.623047\" xlink:href=\"#DejaVuSans-34\"/>\r\n    </g>\r\n   </g>\r\n   <g id=\"text_15\">\r\n    <!-- 1 -->\r\n    <g style=\"fill:#ffffff;\" transform=\"translate(422.456875 48.011375)scale(0.1 -0.1)\">\r\n     <use xlink:href=\"#DejaVuSans-31\"/>\r\n    </g>\r\n   </g>\r\n   <g id=\"text_16\">\r\n    <!-- 61 -->\r\n    <g style=\"fill:#ffffff;\" transform=\"translate(62.155625 124.115375)scale(0.1 -0.1)\">\r\n     <use xlink:href=\"#DejaVuSans-36\"/>\r\n     <use x=\"63.623047\" xlink:href=\"#DejaVuSans-31\"/>\r\n    </g>\r\n   </g>\r\n   <g id=\"text_17\">\r\n    <!-- 3.3e+02 -->\r\n    <g style=\"fill:#262626;\" transform=\"translate(136.217656 124.115375)scale(0.1 -0.1)\">\r\n     <use xlink:href=\"#DejaVuSans-33\"/>\r\n     <use x=\"63.623047\" xlink:href=\"#DejaVuSans-2e\"/>\r\n     <use x=\"95.410156\" xlink:href=\"#DejaVuSans-33\"/>\r\n     <use x=\"159.033203\" xlink:href=\"#DejaVuSans-65\"/>\r\n     <use x=\"220.556641\" xlink:href=\"#DejaVuSans-2b\"/>\r\n     <use x=\"304.345703\" xlink:href=\"#DejaVuSans-30\"/>\r\n     <use x=\"367.96875\" xlink:href=\"#DejaVuSans-32\"/>\r\n    </g>\r\n   </g>\r\n   <g id=\"text_18\">\r\n    <!-- 1.2e+02 -->\r\n    <g style=\"fill:#ffffff;\" transform=\"translate(225.497656 124.115375)scale(0.1 -0.1)\">\r\n     <use xlink:href=\"#DejaVuSans-31\"/>\r\n     <use x=\"63.623047\" xlink:href=\"#DejaVuSans-2e\"/>\r\n     <use x=\"95.410156\" xlink:href=\"#DejaVuSans-32\"/>\r\n     <use x=\"159.033203\" xlink:href=\"#DejaVuSans-65\"/>\r\n     <use x=\"220.556641\" xlink:href=\"#DejaVuSans-2b\"/>\r\n     <use x=\"304.345703\" xlink:href=\"#DejaVuSans-30\"/>\r\n     <use x=\"367.96875\" xlink:href=\"#DejaVuSans-32\"/>\r\n    </g>\r\n   </g>\r\n   <g id=\"text_19\">\r\n    <!-- 1.1e+02 -->\r\n    <g style=\"fill:#ffffff;\" transform=\"translate(314.777656 124.115375)scale(0.1 -0.1)\">\r\n     <use xlink:href=\"#DejaVuSans-31\"/>\r\n     <use x=\"63.623047\" xlink:href=\"#DejaVuSans-2e\"/>\r\n     <use x=\"95.410156\" xlink:href=\"#DejaVuSans-31\"/>\r\n     <use x=\"159.033203\" xlink:href=\"#DejaVuSans-65\"/>\r\n     <use x=\"220.556641\" xlink:href=\"#DejaVuSans-2b\"/>\r\n     <use x=\"304.345703\" xlink:href=\"#DejaVuSans-30\"/>\r\n     <use x=\"367.96875\" xlink:href=\"#DejaVuSans-32\"/>\r\n    </g>\r\n   </g>\r\n   <g id=\"text_20\">\r\n    <!-- 4 -->\r\n    <g style=\"fill:#ffffff;\" transform=\"translate(422.456875 124.115375)scale(0.1 -0.1)\">\r\n     <use xlink:href=\"#DejaVuSans-34\"/>\r\n    </g>\r\n   </g>\r\n   <g id=\"text_21\">\r\n    <!-- 16 -->\r\n    <g style=\"fill:#ffffff;\" transform=\"translate(62.155625 200.219375)scale(0.1 -0.1)\">\r\n     <use xlink:href=\"#DejaVuSans-31\"/>\r\n     <use x=\"63.623047\" xlink:href=\"#DejaVuSans-36\"/>\r\n    </g>\r\n   </g>\r\n   <g id=\"text_22\">\r\n    <!-- 1.5e+02 -->\r\n    <g style=\"fill:#ffffff;\" transform=\"translate(136.217656 200.219375)scale(0.1 -0.1)\">\r\n     <defs>\r\n      <path d=\"M 691 4666 \r\nL 3169 4666 \r\nL 3169 4134 \r\nL 1269 4134 \r\nL 1269 2991 \r\nQ 1406 3038 1543 3061 \r\nQ 1681 3084 1819 3084 \r\nQ 2600 3084 3056 2656 \r\nQ 3513 2228 3513 1497 \r\nQ 3513 744 3044 326 \r\nQ 2575 -91 1722 -91 \r\nQ 1428 -91 1123 -41 \r\nQ 819 9 494 109 \r\nL 494 744 \r\nQ 775 591 1075 516 \r\nQ 1375 441 1709 441 \r\nQ 2250 441 2565 725 \r\nQ 2881 1009 2881 1497 \r\nQ 2881 1984 2565 2268 \r\nQ 2250 2553 1709 2553 \r\nQ 1456 2553 1204 2497 \r\nQ 953 2441 691 2322 \r\nL 691 4666 \r\nz\r\n\" id=\"DejaVuSans-35\" transform=\"scale(0.015625)\"/>\r\n     </defs>\r\n     <use xlink:href=\"#DejaVuSans-31\"/>\r\n     <use x=\"63.623047\" xlink:href=\"#DejaVuSans-2e\"/>\r\n     <use x=\"95.410156\" xlink:href=\"#DejaVuSans-35\"/>\r\n     <use x=\"159.033203\" xlink:href=\"#DejaVuSans-65\"/>\r\n     <use x=\"220.556641\" xlink:href=\"#DejaVuSans-2b\"/>\r\n     <use x=\"304.345703\" xlink:href=\"#DejaVuSans-30\"/>\r\n     <use x=\"367.96875\" xlink:href=\"#DejaVuSans-32\"/>\r\n    </g>\r\n   </g>\r\n   <g id=\"text_23\">\r\n    <!-- 97 -->\r\n    <g style=\"fill:#ffffff;\" transform=\"translate(240.715625 200.219375)scale(0.1 -0.1)\">\r\n     <defs>\r\n      <path d=\"M 703 97 \r\nL 703 672 \r\nQ 941 559 1184 500 \r\nQ 1428 441 1663 441 \r\nQ 2288 441 2617 861 \r\nQ 2947 1281 2994 2138 \r\nQ 2813 1869 2534 1725 \r\nQ 2256 1581 1919 1581 \r\nQ 1219 1581 811 2004 \r\nQ 403 2428 403 3163 \r\nQ 403 3881 828 4315 \r\nQ 1253 4750 1959 4750 \r\nQ 2769 4750 3195 4129 \r\nQ 3622 3509 3622 2328 \r\nQ 3622 1225 3098 567 \r\nQ 2575 -91 1691 -91 \r\nQ 1453 -91 1209 -44 \r\nQ 966 3 703 97 \r\nz\r\nM 1959 2075 \r\nQ 2384 2075 2632 2365 \r\nQ 2881 2656 2881 3163 \r\nQ 2881 3666 2632 3958 \r\nQ 2384 4250 1959 4250 \r\nQ 1534 4250 1286 3958 \r\nQ 1038 3666 1038 3163 \r\nQ 1038 2656 1286 2365 \r\nQ 1534 2075 1959 2075 \r\nz\r\n\" id=\"DejaVuSans-39\" transform=\"scale(0.015625)\"/>\r\n     </defs>\r\n     <use xlink:href=\"#DejaVuSans-39\"/>\r\n     <use x=\"63.623047\" xlink:href=\"#DejaVuSans-37\"/>\r\n    </g>\r\n   </g>\r\n   <g id=\"text_24\">\r\n    <!-- 1.2e+02 -->\r\n    <g style=\"fill:#ffffff;\" transform=\"translate(314.777656 200.219375)scale(0.1 -0.1)\">\r\n     <use xlink:href=\"#DejaVuSans-31\"/>\r\n     <use x=\"63.623047\" xlink:href=\"#DejaVuSans-2e\"/>\r\n     <use x=\"95.410156\" xlink:href=\"#DejaVuSans-32\"/>\r\n     <use x=\"159.033203\" xlink:href=\"#DejaVuSans-65\"/>\r\n     <use x=\"220.556641\" xlink:href=\"#DejaVuSans-2b\"/>\r\n     <use x=\"304.345703\" xlink:href=\"#DejaVuSans-30\"/>\r\n     <use x=\"367.96875\" xlink:href=\"#DejaVuSans-32\"/>\r\n    </g>\r\n   </g>\r\n   <g id=\"text_25\">\r\n    <!-- 9 -->\r\n    <g style=\"fill:#ffffff;\" transform=\"translate(422.456875 200.219375)scale(0.1 -0.1)\">\r\n     <use xlink:href=\"#DejaVuSans-39\"/>\r\n    </g>\r\n   </g>\r\n   <g id=\"text_26\">\r\n    <!-- 5 -->\r\n    <g style=\"fill:#ffffff;\" transform=\"translate(65.336875 276.323375)scale(0.1 -0.1)\">\r\n     <use xlink:href=\"#DejaVuSans-35\"/>\r\n    </g>\r\n   </g>\r\n   <g id=\"text_27\">\r\n    <!-- 1.1e+02 -->\r\n    <g style=\"fill:#ffffff;\" transform=\"translate(136.217656 276.323375)scale(0.1 -0.1)\">\r\n     <use xlink:href=\"#DejaVuSans-31\"/>\r\n     <use x=\"63.623047\" xlink:href=\"#DejaVuSans-2e\"/>\r\n     <use x=\"95.410156\" xlink:href=\"#DejaVuSans-31\"/>\r\n     <use x=\"159.033203\" xlink:href=\"#DejaVuSans-65\"/>\r\n     <use x=\"220.556641\" xlink:href=\"#DejaVuSans-2b\"/>\r\n     <use x=\"304.345703\" xlink:href=\"#DejaVuSans-30\"/>\r\n     <use x=\"367.96875\" xlink:href=\"#DejaVuSans-32\"/>\r\n    </g>\r\n   </g>\r\n   <g id=\"text_28\">\r\n    <!-- 79 -->\r\n    <g style=\"fill:#ffffff;\" transform=\"translate(240.715625 276.323375)scale(0.1 -0.1)\">\r\n     <use xlink:href=\"#DejaVuSans-37\"/>\r\n     <use x=\"63.623047\" xlink:href=\"#DejaVuSans-39\"/>\r\n    </g>\r\n   </g>\r\n   <g id=\"text_29\">\r\n    <!-- 2.8e+02 -->\r\n    <g style=\"fill:#262626;\" transform=\"translate(314.777656 276.323375)scale(0.1 -0.1)\">\r\n     <defs>\r\n      <path d=\"M 2034 2216 \r\nQ 1584 2216 1326 1975 \r\nQ 1069 1734 1069 1313 \r\nQ 1069 891 1326 650 \r\nQ 1584 409 2034 409 \r\nQ 2484 409 2743 651 \r\nQ 3003 894 3003 1313 \r\nQ 3003 1734 2745 1975 \r\nQ 2488 2216 2034 2216 \r\nz\r\nM 1403 2484 \r\nQ 997 2584 770 2862 \r\nQ 544 3141 544 3541 \r\nQ 544 4100 942 4425 \r\nQ 1341 4750 2034 4750 \r\nQ 2731 4750 3128 4425 \r\nQ 3525 4100 3525 3541 \r\nQ 3525 3141 3298 2862 \r\nQ 3072 2584 2669 2484 \r\nQ 3125 2378 3379 2068 \r\nQ 3634 1759 3634 1313 \r\nQ 3634 634 3220 271 \r\nQ 2806 -91 2034 -91 \r\nQ 1263 -91 848 271 \r\nQ 434 634 434 1313 \r\nQ 434 1759 690 2068 \r\nQ 947 2378 1403 2484 \r\nz\r\nM 1172 3481 \r\nQ 1172 3119 1398 2916 \r\nQ 1625 2713 2034 2713 \r\nQ 2441 2713 2670 2916 \r\nQ 2900 3119 2900 3481 \r\nQ 2900 3844 2670 4047 \r\nQ 2441 4250 2034 4250 \r\nQ 1625 4250 1398 4047 \r\nQ 1172 3844 1172 3481 \r\nz\r\n\" id=\"DejaVuSans-38\" transform=\"scale(0.015625)\"/>\r\n     </defs>\r\n     <use xlink:href=\"#DejaVuSans-32\"/>\r\n     <use x=\"63.623047\" xlink:href=\"#DejaVuSans-2e\"/>\r\n     <use x=\"95.410156\" xlink:href=\"#DejaVuSans-38\"/>\r\n     <use x=\"159.033203\" xlink:href=\"#DejaVuSans-65\"/>\r\n     <use x=\"220.556641\" xlink:href=\"#DejaVuSans-2b\"/>\r\n     <use x=\"304.345703\" xlink:href=\"#DejaVuSans-30\"/>\r\n     <use x=\"367.96875\" xlink:href=\"#DejaVuSans-32\"/>\r\n    </g>\r\n   </g>\r\n   <g id=\"text_30\">\r\n    <!-- 40 -->\r\n    <g style=\"fill:#ffffff;\" transform=\"translate(419.275625 276.323375)scale(0.1 -0.1)\">\r\n     <use xlink:href=\"#DejaVuSans-34\"/>\r\n     <use x=\"63.623047\" xlink:href=\"#DejaVuSans-30\"/>\r\n    </g>\r\n   </g>\r\n   <g id=\"text_31\">\r\n    <!-- 8 -->\r\n    <g style=\"fill:#ffffff;\" transform=\"translate(65.336875 352.427375)scale(0.1 -0.1)\">\r\n     <use xlink:href=\"#DejaVuSans-38\"/>\r\n    </g>\r\n   </g>\r\n   <g id=\"text_32\">\r\n    <!-- 35 -->\r\n    <g style=\"fill:#ffffff;\" transform=\"translate(151.435625 352.427375)scale(0.1 -0.1)\">\r\n     <use xlink:href=\"#DejaVuSans-33\"/>\r\n     <use x=\"63.623047\" xlink:href=\"#DejaVuSans-35\"/>\r\n    </g>\r\n   </g>\r\n   <g id=\"text_33\">\r\n    <!-- 50 -->\r\n    <g style=\"fill:#ffffff;\" transform=\"translate(240.715625 352.427375)scale(0.1 -0.1)\">\r\n     <use xlink:href=\"#DejaVuSans-35\"/>\r\n     <use x=\"63.623047\" xlink:href=\"#DejaVuSans-30\"/>\r\n    </g>\r\n   </g>\r\n   <g id=\"text_34\">\r\n    <!-- 2.2e+02 -->\r\n    <g style=\"fill:#ffffff;\" transform=\"translate(314.777656 352.427375)scale(0.1 -0.1)\">\r\n     <use xlink:href=\"#DejaVuSans-32\"/>\r\n     <use x=\"63.623047\" xlink:href=\"#DejaVuSans-2e\"/>\r\n     <use x=\"95.410156\" xlink:href=\"#DejaVuSans-32\"/>\r\n     <use x=\"159.033203\" xlink:href=\"#DejaVuSans-65\"/>\r\n     <use x=\"220.556641\" xlink:href=\"#DejaVuSans-2b\"/>\r\n     <use x=\"304.345703\" xlink:href=\"#DejaVuSans-30\"/>\r\n     <use x=\"367.96875\" xlink:href=\"#DejaVuSans-32\"/>\r\n    </g>\r\n   </g>\r\n   <g id=\"text_35\">\r\n    <!-- 83 -->\r\n    <g style=\"fill:#ffffff;\" transform=\"translate(419.275625 352.427375)scale(0.1 -0.1)\">\r\n     <use xlink:href=\"#DejaVuSans-38\"/>\r\n     <use x=\"63.623047\" xlink:href=\"#DejaVuSans-33\"/>\r\n    </g>\r\n   </g>\r\n  </g>\r\n  <g id=\"axes_2\">\r\n   <g id=\"patch_3\">\r\n    <path d=\"M 498.178125 387.72 \r\nL 517.204125 387.72 \r\nL 517.204125 7.2 \r\nL 498.178125 7.2 \r\nz\r\n\" style=\"fill:#ffffff;\"/>\r\n   </g>\r\n   <g id=\"patch_4\">\r\n    <path clip-path=\"url(#pb0a81dfa5d)\" d=\"M 498.178125 387.72 \r\nL 498.178125 386.233594 \r\nL 498.178125 8.686406 \r\nL 498.178125 7.2 \r\nL 517.204125 7.2 \r\nL 517.204125 8.686406 \r\nL 517.204125 386.233594 \r\nL 517.204125 387.72 \r\nL 517.204125 387.72 \r\nz\r\n\" style=\"fill:#ffffff;stroke:#ffffff;stroke-linejoin:miter;stroke-width:0.01;\"/>\r\n   </g>\r\n   <image height=\"380\" id=\"image423c50a773\" transform=\"scale(1 -1)translate(0 -380)\" width=\"19\" x=\"498\" xlink:href=\"data:image/png;base64,\r\niVBORw0KGgoAAAANSUhEUgAAABMAAAF8CAYAAAAthYD3AAAB9UlEQVR4nO2d0Q3CUAwD80pZgv33LDOkuo+T7Axgcc9OXhAFzuf7ewaq+1BKM3OBWnOfw702VAzGnAjMC3UTPDMzptfNhnYtJsbMcBOdtGQ0xPcmGY1i7us+h9OLuTeLuRYTz7NirsXM86yYazEtZsjmiGKKQ0uKddKuSzyCxJism1zVzX2luBlzb4JiIVuQN7Qp9yYp5t2CtL2Z0wFcieeZ9wPmju29mBkTFPPeTvDY5qq9ua+Y0GLPKyW5yZW4N80jiBQDO6Ch3VfdfCEW4ubRusmGFhQTrwcpHWA9M7oDOE7x2E55V/eQbmJS8kuYOzP1CNJiWsXo0Ib0JoqpDS04g1J684BvBGg3wdCK1wMUM8RN0E76iSVy0mrdJA2ICS24OprdBDFzooFpmedZO2BdMCbbm5iWGjOlNzGtuvmi7klxUyoGu1nMtVgMpvWJpWK+EbNikgagZ0a7ST6YpXUTxRSHlvzGX8iZzQX+WooXE55nVswhf/tGjMmObe7FiTHJaJgx6+a2xJjtzXWZMb1uspujFjNj2YO3IKub7E4rHkERbqaMoIzeZEMbEg32zIq5rGLuK+d2KuZarJjboj8P+HBiXsxO2hdiYkwytGLMCDdTRlDGhQJjctFQY1rdRP8oxIupDa14bKO3E5kzMabZTS60f+8bLrfzm19DAAAAAElFTkSuQmCC\" y=\"-7\"/>\r\n   <g id=\"matplotlib.axis_3\"/>\r\n   <g id=\"matplotlib.axis_4\">\r\n    <g id=\"ytick_6\">\r\n     <g id=\"line2d_11\">\r\n      <defs>\r\n       <path d=\"M 0 0 \r\nL 3.5 0 \r\n\" id=\"m2275222ab7\" style=\"stroke:#000000;stroke-width:0.8;\"/>\r\n      </defs>\r\n      <g>\r\n       <use style=\"stroke:#000000;stroke-width:0.8;\" x=\"517.204125\" xlink:href=\"#m2275222ab7\" y=\"331.558916\"/>\r\n      </g>\r\n     </g>\r\n     <g id=\"text_36\">\r\n      <!-- 50 -->\r\n      <g transform=\"translate(524.204125 335.358134)scale(0.1 -0.1)\">\r\n       <use xlink:href=\"#DejaVuSans-35\"/>\r\n       <use x=\"63.623047\" xlink:href=\"#DejaVuSans-30\"/>\r\n      </g>\r\n     </g>\r\n    </g>\r\n    <g id=\"ytick_7\">\r\n     <g id=\"line2d_12\">\r\n      <g>\r\n       <use style=\"stroke:#000000;stroke-width:0.8;\" x=\"517.204125\" xlink:href=\"#m2275222ab7\" y=\"274.251687\"/>\r\n      </g>\r\n     </g>\r\n     <g id=\"text_37\">\r\n      <!-- 100 -->\r\n      <g transform=\"translate(524.204125 278.050905)scale(0.1 -0.1)\">\r\n       <use xlink:href=\"#DejaVuSans-31\"/>\r\n       <use x=\"63.623047\" xlink:href=\"#DejaVuSans-30\"/>\r\n       <use x=\"127.246094\" xlink:href=\"#DejaVuSans-30\"/>\r\n      </g>\r\n     </g>\r\n    </g>\r\n    <g id=\"ytick_8\">\r\n     <g id=\"line2d_13\">\r\n      <g>\r\n       <use style=\"stroke:#000000;stroke-width:0.8;\" x=\"517.204125\" xlink:href=\"#m2275222ab7\" y=\"216.944458\"/>\r\n      </g>\r\n     </g>\r\n     <g id=\"text_38\">\r\n      <!-- 150 -->\r\n      <g transform=\"translate(524.204125 220.743677)scale(0.1 -0.1)\">\r\n       <use xlink:href=\"#DejaVuSans-31\"/>\r\n       <use x=\"63.623047\" xlink:href=\"#DejaVuSans-35\"/>\r\n       <use x=\"127.246094\" xlink:href=\"#DejaVuSans-30\"/>\r\n      </g>\r\n     </g>\r\n    </g>\r\n    <g id=\"ytick_9\">\r\n     <g id=\"line2d_14\">\r\n      <g>\r\n       <use style=\"stroke:#000000;stroke-width:0.8;\" x=\"517.204125\" xlink:href=\"#m2275222ab7\" y=\"159.637229\"/>\r\n      </g>\r\n     </g>\r\n     <g id=\"text_39\">\r\n      <!-- 200 -->\r\n      <g transform=\"translate(524.204125 163.436448)scale(0.1 -0.1)\">\r\n       <use xlink:href=\"#DejaVuSans-32\"/>\r\n       <use x=\"63.623047\" xlink:href=\"#DejaVuSans-30\"/>\r\n       <use x=\"127.246094\" xlink:href=\"#DejaVuSans-30\"/>\r\n      </g>\r\n     </g>\r\n    </g>\r\n    <g id=\"ytick_10\">\r\n     <g id=\"line2d_15\">\r\n      <g>\r\n       <use style=\"stroke:#000000;stroke-width:0.8;\" x=\"517.204125\" xlink:href=\"#m2275222ab7\" y=\"102.33\"/>\r\n      </g>\r\n     </g>\r\n     <g id=\"text_40\">\r\n      <!-- 250 -->\r\n      <g transform=\"translate(524.204125 106.129219)scale(0.1 -0.1)\">\r\n       <use xlink:href=\"#DejaVuSans-32\"/>\r\n       <use x=\"63.623047\" xlink:href=\"#DejaVuSans-35\"/>\r\n       <use x=\"127.246094\" xlink:href=\"#DejaVuSans-30\"/>\r\n      </g>\r\n     </g>\r\n    </g>\r\n    <g id=\"ytick_11\">\r\n     <g id=\"line2d_16\">\r\n      <g>\r\n       <use style=\"stroke:#000000;stroke-width:0.8;\" x=\"517.204125\" xlink:href=\"#m2275222ab7\" y=\"45.022771\"/>\r\n      </g>\r\n     </g>\r\n     <g id=\"text_41\">\r\n      <!-- 300 -->\r\n      <g transform=\"translate(524.204125 48.82199)scale(0.1 -0.1)\">\r\n       <use xlink:href=\"#DejaVuSans-33\"/>\r\n       <use x=\"63.623047\" xlink:href=\"#DejaVuSans-30\"/>\r\n       <use x=\"127.246094\" xlink:href=\"#DejaVuSans-30\"/>\r\n      </g>\r\n     </g>\r\n    </g>\r\n   </g>\r\n   <g id=\"LineCollection_1\"/>\r\n   <g id=\"patch_5\">\r\n    <path d=\"M 498.178125 387.72 \r\nL 498.178125 386.233594 \r\nL 498.178125 8.686406 \r\nL 498.178125 7.2 \r\nL 517.204125 7.2 \r\nL 517.204125 8.686406 \r\nL 517.204125 386.233594 \r\nL 517.204125 387.72 \r\nz\r\n\" style=\"fill:none;\"/>\r\n   </g>\r\n  </g>\r\n </g>\r\n <defs>\r\n  <clipPath id=\"p06f307a66f\">\r\n   <rect height=\"380.52\" width=\"446.4\" x=\"23.878125\" y=\"7.2\"/>\r\n  </clipPath>\r\n  <clipPath id=\"pb0a81dfa5d\">\r\n   <rect height=\"380.52\" width=\"19.026\" x=\"498.178125\" y=\"7.2\"/>\r\n  </clipPath>\r\n </defs>\r\n</svg>\r\n",
      "image/png": "[encoded data removed]"
     },
     "metadata": {
      "needs_background": "light"
     }
    }
   ],
   "source": [
    "plt.figure(figsize = (10,7))\n",
    "sns.heatmap(cm,annot=True)"
   ]
  },
  {
   "cell_type": "code",
   "execution_count": 63,
   "metadata": {},
   "outputs": [
    {
     "output_type": "execute_result",
     "data": {
      "text/plain": [
       "0.33489626602835326"
      ]
     },
     "metadata": {},
     "execution_count": 63
    }
   ],
   "source": [
    "f1_score(torch.tensor(test_df.iloc[:,0].values).float(),final_pred_labels,average='macro')"
   ]
  }
 ]
}