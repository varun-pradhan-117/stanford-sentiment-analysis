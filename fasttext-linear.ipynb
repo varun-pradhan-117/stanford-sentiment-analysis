{
 "cells": [
  {
   "cell_type": "markdown",
   "metadata": {},
   "source": [
    "## Import dependencies"
   ]
  },
  {
   "cell_type": "code",
   "execution_count": 1,
   "metadata": {},
   "outputs": [],
   "source": [
    "import torch\n",
    "import torchvision # provide access to datasets, models, transforms, utils, etc\n",
    "import torchvision.transforms as transforms\n",
    "from torchtext.data.utils import get_tokenizer\n",
    "from torchtext.vocab import build_vocab_from_iterator\n",
    "from torch.utils.data import DataLoader,Dataset\n",
    "from torchtext import data\n",
    "import numpy as np\n",
    "import pandas as pd \n",
    "from bs4 import BeautifulSoup\n",
    "import re\n",
    "import matplotlib.pyplot as plt\n",
    "import nltk"
   ]
  },
  {
   "cell_type": "markdown",
   "metadata": {},
   "source": [
    "## Load Fasttext model"
   ]
  },
  {
   "cell_type": "code",
   "execution_count": 2,
   "metadata": {},
   "outputs": [],
   "source": [
    "import fasttext.util"
   ]
  },
  {
   "cell_type": "code",
   "execution_count": 3,
   "metadata": {},
   "outputs": [
    {
     "name": "stderr",
     "output_type": "stream",
     "text": [
      "Warning : `load_model` does not return WordVectorModel or SupervisedModel any more, but a `FastText` object which is very similar.\n"
     ]
    }
   ],
   "source": [
    "ft = fasttext.load_model('FastText Model/cc.en.300.bin')"
   ]
  },
  {
   "cell_type": "code",
   "execution_count": 4,
   "metadata": {},
   "outputs": [
    {
     "data": {
      "text/plain": [
       "300"
      ]
     },
     "execution_count": 4,
     "metadata": {},
     "output_type": "execute_result"
    }
   ],
   "source": [
    "ft.get_dimension()"
   ]
  },
  {
   "cell_type": "markdown",
   "metadata": {},
   "source": [
    "## Text preprocessing"
   ]
  },
  {
   "cell_type": "code",
   "execution_count": 5,
   "metadata": {},
   "outputs": [],
   "source": [
    "train_df=pd.read_csv('data/sst_train.txt', names=['label','text'],sep='\\t')\n",
    "test_df=pd.read_csv('data/sst_test.txt',names=['label','text'],sep='\\t')\n",
    "val_df=pd.read_csv('data/sst_dev.txt',names=['label','text'],sep='\\t')"
   ]
  },
  {
   "cell_type": "code",
   "execution_count": 6,
   "metadata": {},
   "outputs": [],
   "source": [
    "tokenizer=get_tokenizer('spacy',language=\"en_core_web_sm\")"
   ]
  },
  {
   "cell_type": "code",
   "execution_count": 7,
   "metadata": {},
   "outputs": [],
   "source": [
    "def get_tokens(data_iter):\n",
    "    for _,text in data_iter:\n",
    "        yield tokenizer(''.join(text))"
   ]
  },
  {
   "cell_type": "code",
   "execution_count": 8,
   "metadata": {},
   "outputs": [],
   "source": [
    "def clean_texts(texts):\n",
    "    texts=re.sub(r\"[^a-zA-Z0-9]\", ' ', texts)\n",
    "    texts=re.sub(r\" +\",' ', texts)\n",
    "    texts=texts.lower()\n",
    "    return texts"
   ]
  },
  {
   "cell_type": "code",
   "execution_count": 9,
   "metadata": {},
   "outputs": [],
   "source": [
    "train_df['text']=train_df['text'].apply(lambda x:clean_texts(x))"
   ]
  },
  {
   "cell_type": "code",
   "execution_count": 10,
   "metadata": {},
   "outputs": [],
   "source": [
    "test_df['text']=test_df['text'].apply(lambda x:clean_texts(x))\n",
    "val_df['text']=val_df['text'].apply(lambda x:clean_texts(x))"
   ]
  },
  {
   "cell_type": "markdown",
   "metadata": {},
   "source": [
    "### Get features from sentences using ft.get_sentence_vector()"
   ]
  },
  {
   "cell_type": "code",
   "execution_count": 11,
   "metadata": {},
   "outputs": [],
   "source": [
    "def get_features(text):\n",
    "    vector=ft.get_sentence_vector(text)\n",
    "    vector=vector/np.linalg.norm(vector)\n",
    "    torch_vector=torch.tensor(vector,dtype=torch.float32)\n",
    "    return torch_vector"
   ]
  },
  {
   "cell_type": "code",
   "execution_count": 12,
   "metadata": {},
   "outputs": [],
   "source": [
    "train_df['features']=train_df['text'].apply(lambda x:get_features(x))"
   ]
  },
  {
   "cell_type": "code",
   "execution_count": 13,
   "metadata": {},
   "outputs": [],
   "source": [
    "test_df['features']=test_df['text'].apply(lambda x:get_features(x))\n",
    "val_df['features']=val_df['text'].apply(lambda x:get_features(x))"
   ]
  },
  {
   "cell_type": "markdown",
   "metadata": {},
   "source": [
    "### Define dataset class"
   ]
  },
  {
   "cell_type": "code",
   "execution_count": 14,
   "metadata": {},
   "outputs": [],
   "source": [
    "class review_data(Dataset):\n",
    "    def __init__(self,dataframe):\n",
    "        self.text=dataframe['text']\n",
    "        self.label=dataframe['label']\n",
    "        self.features=dataframe['features']\n",
    "\n",
    "    def __getitem__(self,index):\n",
    "        return (self.label[index],self.text[index],self.features[index])\n",
    "    \n",
    "    def __len__(self):\n",
    "        return len(self.label)"
   ]
  },
  {
   "cell_type": "code",
   "execution_count": 15,
   "metadata": {},
   "outputs": [],
   "source": [
    "train_data=review_data(train_df)"
   ]
  },
  {
   "cell_type": "code",
   "execution_count": 16,
   "metadata": {},
   "outputs": [],
   "source": [
    "dataloader = DataLoader(train_data, batch_size=32, shuffle=False)"
   ]
  },
  {
   "cell_type": "code",
   "execution_count": 17,
   "metadata": {},
   "outputs": [],
   "source": [
    "INPUT_SHAPE=300"
   ]
  },
  {
   "cell_type": "markdown",
   "metadata": {},
   "source": [
    "## Define classification model"
   ]
  },
  {
   "cell_type": "code",
   "execution_count": 18,
   "metadata": {},
   "outputs": [],
   "source": [
    "from torch import nn\n",
    "import torch.nn.functional as F\n",
    "class TextClassificationModel(nn.Module):\n",
    "\n",
    "    def __init__(self):\n",
    "        super(TextClassificationModel, self).__init__()\n",
    "        self.fc1=nn.Linear(in_features=INPUT_SHAPE,out_features=64)\n",
    "\n",
    "        self.out=nn.Linear(in_features=64,out_features=5)\n",
    "\n",
    "    def forward(self,t):\n",
    "        # Input layer\n",
    "        t=self.fc1(t)\n",
    "        t=F.relu(t)\n",
    "\n",
    "        # Output layer\n",
    "        t=self.out(t)\n",
    "\n",
    "        return t"
   ]
  },
  {
   "cell_type": "markdown",
   "metadata": {},
   "source": [
    "## Create model object and train"
   ]
  },
  {
   "cell_type": "code",
   "execution_count": 19,
   "metadata": {},
   "outputs": [],
   "source": [
    "model = TextClassificationModel()"
   ]
  },
  {
   "cell_type": "code",
   "execution_count": 20,
   "metadata": {},
   "outputs": [],
   "source": [
    "train_dataloader = DataLoader(train_data, batch_size=32, shuffle=False)"
   ]
  },
  {
   "cell_type": "code",
   "execution_count": 21,
   "metadata": {},
   "outputs": [],
   "source": [
    "test_data=review_data(test_df)\n",
    "val_data=review_data(val_df)"
   ]
  },
  {
   "cell_type": "code",
   "execution_count": 22,
   "metadata": {},
   "outputs": [],
   "source": [
    "test_dataloader = DataLoader(test_data,batch_size=32,shuffle=False)\n",
    "val_dataloader = DataLoader(val_data,batch_size=32,shuffle=False)"
   ]
  },
  {
   "cell_type": "markdown",
   "metadata": {},
   "source": [
    "### Define training function"
   ]
  },
  {
   "cell_type": "code",
   "execution_count": 23,
   "metadata": {},
   "outputs": [],
   "source": [
    "def train(dataloader):\n",
    "    model.train()\n",
    "    total_acc,total_count=0,0\n",
    "    for batch in dataloader:\n",
    "        label,text,features=batch\n",
    "        \n",
    "        predicted_label = model(features)\n",
    "        loss = F.cross_entropy(predicted_label, label)\n",
    "        optimizer.zero_grad()\n",
    "        loss.backward()\n",
    "        #torch.nn.utils.clip_grad_norm_(model.parameters(),0.1)\n",
    "        optimizer.step()\n",
    "        total_acc+=(predicted_label.argmax(1)==label).sum().item()\n",
    "        total_count+=label.size(0)\n",
    "    print(f'! epoch{epoch} | Training accuracy {total_acc/total_count}')"
   ]
  },
  {
   "cell_type": "code",
   "execution_count": 24,
   "metadata": {},
   "outputs": [],
   "source": [
    "def evaluate(dataloader):\n",
    "    model.eval()\n",
    "    total_acc,total_count,total_loss=0,0,0\n",
    "    with torch.no_grad():\n",
    "            for batch in dataloader:\n",
    "                label,text,features=batch\n",
    "                predicted_label = model(features)\n",
    "                loss = criterion(predicted_label, label)\n",
    "                total_loss+=loss\n",
    "                total_acc += (predicted_label.argmax(1) == label).sum().item()\n",
    "                total_count += label.size(0)\n",
    "            return total_acc/total_count, total_loss"
   ]
  },
  {
   "cell_type": "markdown",
   "metadata": {},
   "source": [
    "### Define optimizers"
   ]
  },
  {
   "cell_type": "code",
   "execution_count": 29,
   "metadata": {},
   "outputs": [],
   "source": [
    "# Hyperparameters\n",
    "EPOCHS = 10 # epoch\n",
    "LR = 0.01  # learning rate\n",
    "criterion = torch.nn.CrossEntropyLoss()\n",
    "optimizer = torch.optim.Adam(model.parameters(), lr=LR)\n",
    "total_accu = None"
   ]
  },
  {
   "cell_type": "code",
   "execution_count": 30,
   "metadata": {},
   "outputs": [],
   "source": [
    "train_dataloader=DataLoader(train_data,batch_size=32,shuffle=True)\n",
    "test_dataloader = DataLoader(test_data,batch_size=32,shuffle=False)\n",
    "val_dataloader = DataLoader(val_data,batch_size=32,shuffle=True)"
   ]
  },
  {
   "cell_type": "code",
   "execution_count": 31,
   "metadata": {},
   "outputs": [],
   "source": [
    "import time"
   ]
  },
  {
   "cell_type": "markdown",
   "metadata": {},
   "source": [
    "### Train model"
   ]
  },
  {
   "cell_type": "code",
   "execution_count": 32,
   "metadata": {},
   "outputs": [
    {
     "name": "stdout",
     "output_type": "stream",
     "text": [
      "! epoch1 | Training accuracy 0.4404260299625468\n",
      "| end of epoch 1 | time: 0.33097124099731445s | val accuracy: 0.4296094459582198 | val loss 45.342552185058594\n",
      "------------------------------------------------------------------------------------------------------------------------\n",
      "! epoch2 | Training accuracy 0.46465355805243447\n",
      "| end of epoch 2 | time: 0.3300008773803711s | val accuracy: 0.43415077202543145 | val loss 44.57411575317383\n",
      "------------------------------------------------------------------------------------------------------------------------\n",
      "! epoch3 | Training accuracy 0.47495318352059923\n",
      "| end of epoch 3 | time: 0.32923054695129395s | val accuracy: 0.43778383287920075 | val loss 45.042945861816406\n",
      "------------------------------------------------------------------------------------------------------------------------\n",
      "! epoch4 | Training accuracy 0.48408239700374533\n",
      "| end of epoch 4 | time: 0.34400153160095215s | val accuracy: 0.4287011807447775 | val loss 44.72559356689453\n",
      "------------------------------------------------------------------------------------------------------------------------\n",
      "! epoch5 | Training accuracy 0.49180711610486894\n",
      "| end of epoch 5 | time: 0.3535006046295166s | val accuracy: 0.4223433242506812 | val loss 45.52884292602539\n",
      "------------------------------------------------------------------------------------------------------------------------\n",
      "! epoch6 | Training accuracy 0.5015215355805244\n",
      "| end of epoch 6 | time: 0.34299802780151367s | val accuracy: 0.4114441416893733 | val loss 47.65641784667969\n",
      "------------------------------------------------------------------------------------------------------------------------\n",
      "! epoch7 | Training accuracy 0.5110018726591761\n",
      "| end of epoch 7 | time: 0.34600019454956055s | val accuracy: 0.4250681198910082 | val loss 45.7484016418457\n",
      "------------------------------------------------------------------------------------------------------------------------\n",
      "! epoch8 | Training accuracy 0.5222378277153558\n",
      "| end of epoch 8 | time: 0.3475055694580078s | val accuracy: 0.42415985467756584 | val loss 45.94327926635742\n",
      "------------------------------------------------------------------------------------------------------------------------\n",
      "! epoch9 | Training accuracy 0.5318352059925093\n",
      "| end of epoch 9 | time: 0.3379647731781006s | val accuracy: 0.4178019981834696 | val loss 49.293212890625\n",
      "------------------------------------------------------------------------------------------------------------------------\n",
      "! epoch10 | Training accuracy 0.5437734082397003\n",
      "| end of epoch 10 | time: 0.3209998607635498s | val accuracy: 0.4259763851044505 | val loss 47.3721923828125\n",
      "------------------------------------------------------------------------------------------------------------------------\n"
     ]
    }
   ],
   "source": [
    "for epoch in range(1, EPOCHS + 1):\n",
    "    epoch_start_time = time.time()\n",
    "    train(train_dataloader)\n",
    "    accu_val,val_loss = evaluate(val_dataloader)\n",
    "    total_accu = accu_val\n",
    "    print(f'| end of epoch {epoch} | time: {time.time()-epoch_start_time}s | val accuracy: {accu_val} | val loss {val_loss}')\n",
    "    print('-' * 120)"
   ]
  },
  {
   "cell_type": "markdown",
   "metadata": {},
   "source": [
    "### Evaluate Model"
   ]
  },
  {
   "cell_type": "code",
   "execution_count": 33,
   "metadata": {},
   "outputs": [
    {
     "data": {
      "text/plain": [
       "(0.4334841628959276, tensor(94.9079))"
      ]
     },
     "execution_count": 33,
     "metadata": {},
     "output_type": "execute_result"
    }
   ],
   "source": [
    "evaluate(test_dataloader)"
   ]
  },
  {
   "cell_type": "code",
   "execution_count": 34,
   "metadata": {},
   "outputs": [],
   "source": [
    "import seaborn as sns\n",
    "from sklearn.metrics import classification_report,confusion_matrix,accuracy_score, f1_score\n",
    "def test_metrics(dataloader):\n",
    "    model.eval()\n",
    "    total_acc,total_count=0,0\n",
    "    preds=[]\n",
    "    with torch.no_grad():\n",
    "            for batch in dataloader:\n",
    "                label,text,features=batch\n",
    "                predicted_label = model(features)\n",
    "                loss = criterion(predicted_label, label)\n",
    "                total_acc += (predicted_label.argmax(1) == label).sum().item()\n",
    "                preds.append(predicted_label.argmax(1))\n",
    "                total_count += label.size(0)\n",
    "            predicted_labels=torch.cat(preds,dim=0)\n",
    "            f1_s=f1_score(torch.tensor(test_df['label']),predicted_labels,average='macro')\n",
    "            print(\"F1-score =\",f1_s)\n",
    "            cm=confusion_matrix(torch.tensor(test_df['label']),predicted_labels)\n",
    "            plt.figure(figsize = (10,7))\n",
    "            sns.heatmap(cm,annot=True)\n",
    "            return total_acc/total_count, predicted_labels"
   ]
  },
  {
   "cell_type": "code",
   "execution_count": 35,
   "metadata": {},
   "outputs": [
    {
     "name": "stdout",
     "output_type": "stream",
     "text": [
      "F1-score = 0.42212945086664566\n"
     ]
    },
    {
     "data": {
      "image/png": "[encoded data removed]",
      "text/plain": [
       "<Figure size 720x504 with 2 Axes>"
      ]
     },
     "metadata": {
      "needs_background": "light"
     },
     "output_type": "display_data"
    }
   ],
   "source": [
    "_,test_preds=test_metrics(test_dataloader)"
   ]
  },
  {
   "cell_type": "code",
   "execution_count": 36,
   "metadata": {},
   "outputs": [
    {
     "data": {
      "text/plain": [
       "tensor([2, 3, 4,  ..., 4, 3, 0])"
      ]
     },
     "execution_count": 36,
     "metadata": {},
     "output_type": "execute_result"
    }
   ],
   "source": [
    "torch.tensor(test_df['label'])"
   ]
  },
  {
   "cell_type": "markdown",
   "metadata": {},
   "source": [
    "### Accuracy on Test Data"
   ]
  },
  {
   "cell_type": "code",
   "execution_count": 37,
   "metadata": {},
   "outputs": [
    {
     "name": "stdout",
     "output_type": "stream",
     "text": [
      "0.4334841628959276\n"
     ]
    }
   ],
   "source": [
    "print(accuracy_score(torch.tensor(test_df['label']),test_preds))"
   ]
  }
 ],
 "metadata": {
  "interpreter": {
   "hash": "6394067025e7b58be91336a97fabd7e0edf63c22e0826aa98dafbee925a98393"
  },
  "kernelspec": {
   "display_name": "Python 3.9.5 64-bit ('pytorch-gpu': conda)",
   "name": "python3"
  },
  "language_info": {
   "codemirror_mode": {
    "name": "ipython",
    "version": 3
   },
   "file_extension": ".py",
   "mimetype": "text/x-python",
   "name": "python",
   "nbconvert_exporter": "python",
   "pygments_lexer": "ipython3",
   "version": "3.9.5"
  },
  "orig_nbformat": 4
 },
 "nbformat": 4,
 "nbformat_minor": 2
}
