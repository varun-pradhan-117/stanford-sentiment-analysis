{
 "metadata": {
  "language_info": {
   "codemirror_mode": {
    "name": "ipython",
    "version": 3
   },
   "file_extension": ".py",
   "mimetype": "text/x-python",
   "name": "python",
   "nbconvert_exporter": "python",
   "pygments_lexer": "ipython3",
   "version": "3.9.5"
  },
  "orig_nbformat": 4,
  "kernelspec": {
   "name": "python3",
   "display_name": "Python 3.9.5 64-bit ('pytorch-gpu': conda)"
  },
  "interpreter": {
   "hash": "6394067025e7b58be91336a97fabd7e0edf63c22e0826aa98dafbee925a98393"
  }
 },
 "nbformat": 4,
 "nbformat_minor": 2,
 "cells": [
  {
   "cell_type": "code",
   "execution_count": 2,
   "metadata": {},
   "outputs": [],
   "source": [
    "import torch\n",
    "import torchvision # provide access to datasets, models, transforms, utils, etc\n",
    "import torchvision.transforms as transforms\n"
   ]
  },
  {
   "cell_type": "code",
   "execution_count": 3,
   "metadata": {},
   "outputs": [],
   "source": [
    "from torchtext import data"
   ]
  },
  {
   "cell_type": "code",
   "execution_count": 4,
   "metadata": {},
   "outputs": [],
   "source": [
    "import numpy as np\n",
    "import pandas as pd \n",
    "from bs4 import BeautifulSoup\n",
    "import re\n",
    "import matplotlib.pyplot as plt\n",
    "import nltk"
   ]
  },
  {
   "cell_type": "code",
   "execution_count": 6,
   "metadata": {},
   "outputs": [],
   "source": [
    "from torchtext.data.utils import get_tokenizer\n",
    "from torchtext.vocab import build_vocab_from_iterator\n",
    "from torch.utils.data import DataLoader,Dataset"
   ]
  },
  {
   "source": [
    "## Load Fasttext model"
   ],
   "cell_type": "markdown",
   "metadata": {}
  },
  {
   "cell_type": "code",
   "execution_count": 7,
   "metadata": {},
   "outputs": [],
   "source": [
    "import fasttext.util"
   ]
  },
  {
   "cell_type": "code",
   "execution_count": 8,
   "metadata": {},
   "outputs": [
    {
     "output_type": "stream",
     "name": "stderr",
     "text": [
      "Warning : `load_model` does not return WordVectorModel or SupervisedModel any more, but a `FastText` object which is very similar.\n"
     ]
    }
   ],
   "source": [
    "ft = fasttext.load_model('FastText Model/cc.en.300.bin')"
   ]
  },
  {
   "cell_type": "code",
   "execution_count": 9,
   "metadata": {},
   "outputs": [
    {
     "output_type": "execute_result",
     "data": {
      "text/plain": [
       "300"
      ]
     },
     "metadata": {},
     "execution_count": 9
    }
   ],
   "source": [
    "ft.get_dimension()"
   ]
  },
  {
   "source": [
    "## Text preprocessing"
   ],
   "cell_type": "markdown",
   "metadata": {}
  },
  {
   "cell_type": "code",
   "execution_count": 10,
   "metadata": {},
   "outputs": [],
   "source": [
    "train_df=pd.read_csv('data/sst_train.txt', names=['label','text'],sep='\\t')\n",
    "test_df=pd.read_csv('data/sst_test.txt',names=['label','text'],sep='\\t')\n",
    "val_df=pd.read_csv('data/sst_dev.txt',names=['label','text'],sep='\\t')"
   ]
  },
  {
   "cell_type": "code",
   "execution_count": 11,
   "metadata": {},
   "outputs": [],
   "source": [
    "tokenizer=get_tokenizer('spacy',language=\"en_core_web_sm\")"
   ]
  },
  {
   "cell_type": "code",
   "execution_count": 12,
   "metadata": {},
   "outputs": [],
   "source": [
    "def get_tokens(data_iter):\n",
    "    for _,text in data_iter:\n",
    "        yield tokenizer(''.join(text))"
   ]
  },
  {
   "cell_type": "code",
   "execution_count": 13,
   "metadata": {},
   "outputs": [],
   "source": [
    "def clean_texts(texts):\n",
    "    texts=re.sub(r\"[^a-zA-Z0-9]\", ' ', texts)\n",
    "    texts=re.sub(r\" +\",' ', texts)\n",
    "    texts=texts.lower()\n",
    "    return texts"
   ]
  },
  {
   "cell_type": "code",
   "execution_count": 14,
   "metadata": {},
   "outputs": [],
   "source": [
    "train_df['text']=train_df['text'].apply(lambda x:clean_texts(x))"
   ]
  },
  {
   "cell_type": "code",
   "execution_count": 15,
   "metadata": {},
   "outputs": [],
   "source": [
    "test_df['text']=test_df['text'].apply(lambda x:clean_texts(x))\n",
    "val_df['text']=val_df['text'].apply(lambda x:clean_texts(x))"
   ]
  },
  {
   "source": [
    "### Get features from sentences using ft.get_sentence_vector()"
   ],
   "cell_type": "markdown",
   "metadata": {}
  },
  {
   "cell_type": "code",
   "execution_count": 19,
   "metadata": {},
   "outputs": [],
   "source": [
    "def get_features(text):\n",
    "    vector=ft.get_sentence_vector(text)\n",
    "    vector=vector/np.linalg.norm(vector)\n",
    "    torch_vector=torch.tensor(vector,dtype=torch.float32)\n",
    "    return torch_vector"
   ]
  },
  {
   "cell_type": "code",
   "execution_count": 20,
   "metadata": {},
   "outputs": [],
   "source": [
    "train_df['features']=train_df['text'].apply(lambda x:get_features(x))"
   ]
  },
  {
   "cell_type": "code",
   "execution_count": 21,
   "metadata": {},
   "outputs": [],
   "source": [
    "test_df['features']=test_df['text'].apply(lambda x:get_features(x))\n",
    "val_df['features']=val_df['text'].apply(lambda x:get_features(x))"
   ]
  },
  {
   "source": [
    "### Define dataset class"
   ],
   "cell_type": "markdown",
   "metadata": {}
  },
  {
   "cell_type": "code",
   "execution_count": 84,
   "metadata": {},
   "outputs": [],
   "source": [
    "class review_data(Dataset):\n",
    "    def __init__(self,dataframe):\n",
    "        self.text=dataframe['text']\n",
    "        self.label=dataframe['label']\n",
    "        self.features=dataframe['features']\n",
    "\n",
    "    def __getitem__(self,index):\n",
    "        return (self.label[index],self.text[index],self.features[index])\n",
    "    \n",
    "    def __len__(self):\n",
    "        return len(self.label)"
   ]
  },
  {
   "cell_type": "code",
   "execution_count": 85,
   "metadata": {},
   "outputs": [],
   "source": [
    "train_data=review_data(train_df)"
   ]
  },
  {
   "cell_type": "code",
   "execution_count": 86,
   "metadata": {},
   "outputs": [],
   "source": [
    "dataloader = DataLoader(train_data, batch_size=32, shuffle=False)"
   ]
  },
  {
   "cell_type": "code",
   "execution_count": 167,
   "metadata": {},
   "outputs": [],
   "source": [
    "INPUT_SHAPE=300"
   ]
  },
  {
   "source": [
    "## Define classification model"
   ],
   "cell_type": "markdown",
   "metadata": {}
  },
  {
   "cell_type": "code",
   "execution_count": 211,
   "metadata": {},
   "outputs": [],
   "source": [
    "from torch import nn\n",
    "import torch.nn.functional as F\n",
    "class TextClassificationModel(nn.Module):\n",
    "\n",
    "    def __init__(self):\n",
    "        super(TextClassificationModel, self).__init__()\n",
    "        self.fc1=nn.Linear(in_features=INPUT_SHAPE,out_features=64)\n",
    "\n",
    "        self.out=nn.Linear(in_features=64,out_features=5)\n",
    "\n",
    "    def forward(self,t):\n",
    "        # Input layer\n",
    "        t=self.fc1(t)\n",
    "        t=F.relu(t)\n",
    "\n",
    "        # Output layer\n",
    "        t=self.out(t)\n",
    "\n",
    "        return t"
   ]
  },
  {
   "source": [
    "## Create model object and train"
   ],
   "cell_type": "markdown",
   "metadata": {}
  },
  {
   "cell_type": "code",
   "execution_count": 212,
   "metadata": {},
   "outputs": [],
   "source": [
    "model = TextClassificationModel()"
   ]
  },
  {
   "cell_type": "code",
   "execution_count": 213,
   "metadata": {},
   "outputs": [],
   "source": [
    "train_dataloader = DataLoader(train_data, batch_size=32, shuffle=False)"
   ]
  },
  {
   "cell_type": "code",
   "execution_count": 214,
   "metadata": {},
   "outputs": [],
   "source": [
    "test_data=review_data(test_df)\n",
    "val_data=review_data(val_df)"
   ]
  },
  {
   "cell_type": "code",
   "execution_count": 215,
   "metadata": {},
   "outputs": [],
   "source": [
    "test_dataloader = DataLoader(test_data,batch_size=32,shuffle=False)\n",
    "val_dataloader = DataLoader(val_data,batch_size=32,shuffle=False)"
   ]
  },
  {
   "source": [
    "### Define training function"
   ],
   "cell_type": "markdown",
   "metadata": {}
  },
  {
   "cell_type": "code",
   "execution_count": 216,
   "metadata": {},
   "outputs": [],
   "source": [
    "def train(dataloader):\n",
    "    model.train()\n",
    "    total_acc,total_count=0,0\n",
    "    for batch in dataloader:\n",
    "        label,text,features=batch\n",
    "        \n",
    "        predicted_label = model(features)\n",
    "        loss = F.cross_entropy(predicted_label, label)\n",
    "        optimizer.zero_grad()\n",
    "        loss.backward()\n",
    "        #torch.nn.utils.clip_grad_norm_(model.parameters(),0.1)\n",
    "        optimizer.step()\n",
    "        total_acc+=(predicted_label.argmax(1)==label).sum().item()\n",
    "        total_count+=label.size(0)\n",
    "    print(f'! epoch{epoch} | Training accuracy {total_acc/total_count}')"
   ]
  },
  {
   "cell_type": "code",
   "execution_count": 217,
   "metadata": {},
   "outputs": [],
   "source": [
    "def evaluate(dataloader):\n",
    "    model.eval()\n",
    "    total_acc,total_count,total_loss=0,0,0\n",
    "    with torch.no_grad():\n",
    "            for batch in dataloader:\n",
    "                label,text,features=batch\n",
    "                predicted_label = model(features)\n",
    "                loss = criterion(predicted_label, label)\n",
    "                total_loss+=loss\n",
    "                total_acc += (predicted_label.argmax(1) == label).sum().item()\n",
    "                total_count += label.size(0)\n",
    "            return total_acc/total_count, total_loss"
   ]
  },
  {
   "source": [
    "### Define optimizers"
   ],
   "cell_type": "markdown",
   "metadata": {}
  },
  {
   "cell_type": "code",
   "execution_count": 218,
   "metadata": {},
   "outputs": [],
   "source": [
    "# Hyperparameters\n",
    "EPOCHS = 10 # epoch\n",
    "LR = 0.01  # learning rate\n",
    "\n",
    "optimizer = torch.optim.Adam(model.parameters(), lr=LR)\n",
    "total_accu = None"
   ]
  },
  {
   "cell_type": "code",
   "execution_count": 219,
   "metadata": {},
   "outputs": [],
   "source": [
    "train_dataloader=DataLoader(train_data,batch_size=32,shuffle=True)\n",
    "test_dataloader = DataLoader(test_data,batch_size=32,shuffle=False)\n",
    "val_dataloader = DataLoader(val_data,batch_size=32,shuffle=True)"
   ]
  },
  {
   "cell_type": "code",
   "execution_count": 220,
   "metadata": {},
   "outputs": [],
   "source": [
    "import time"
   ]
  },
  {
   "source": [
    "### Train model"
   ],
   "cell_type": "markdown",
   "metadata": {}
  },
  {
   "cell_type": "code",
   "execution_count": 221,
   "metadata": {},
   "outputs": [
    {
     "output_type": "stream",
     "name": "stdout",
     "text": [
      "! epoch1 | Training accuracy 0.3993445692883895\n",
      "| end of epoch 1 | time: 0.33611583709716797s | val accuracy: 0.4223433242506812 | val loss 44.812198638916016\n",
      "------------------------------------------------------------------------------------------------------------------------\n",
      "! epoch2 | Training accuracy 0.4477996254681648\n",
      "| end of epoch 2 | time: 0.33011674880981445s | val accuracy: 0.43415077202543145 | val loss 45.23979568481445\n",
      "------------------------------------------------------------------------------------------------------------------------\n",
      "! epoch3 | Training accuracy 0.46125936329588013\n",
      "| end of epoch 3 | time: 0.3640422821044922s | val accuracy: 0.43505903723887374 | val loss 44.46986770629883\n",
      "------------------------------------------------------------------------------------------------------------------------\n",
      "! epoch4 | Training accuracy 0.47624063670411987\n",
      "| end of epoch 4 | time: 0.42487621307373047s | val accuracy: 0.43415077202543145 | val loss 44.33792495727539\n",
      "------------------------------------------------------------------------------------------------------------------------\n",
      "! epoch5 | Training accuracy 0.4750702247191011\n",
      "| end of epoch 5 | time: 0.4308483600616455s | val accuracy: 0.42415985467756584 | val loss 44.66012954711914\n",
      "------------------------------------------------------------------------------------------------------------------------\n",
      "! epoch6 | Training accuracy 0.4911048689138577\n",
      "| end of epoch 6 | time: 0.42088747024536133s | val accuracy: 0.43778383287920075 | val loss 44.58322525024414\n",
      "------------------------------------------------------------------------------------------------------------------------\n",
      "! epoch7 | Training accuracy 0.499063670411985\n",
      "| end of epoch 7 | time: 0.4173910617828369s | val accuracy: 0.4069028156221617 | val loss 46.051124572753906\n",
      "------------------------------------------------------------------------------------------------------------------------\n",
      "! epoch8 | Training accuracy 0.5105337078651685\n",
      "| end of epoch 8 | time: 0.42685818672180176s | val accuracy: 0.4159854677565849 | val loss 47.09340286254883\n",
      "------------------------------------------------------------------------------------------------------------------------\n",
      "! epoch9 | Training accuracy 0.5223548689138576\n",
      "| end of epoch 9 | time: 0.45180726051330566s | val accuracy: 0.42415985467756584 | val loss 46.68086242675781\n",
      "------------------------------------------------------------------------------------------------------------------------\n",
      "! epoch10 | Training accuracy 0.5341760299625468\n",
      "| end of epoch 10 | time: 0.4178807735443115s | val accuracy: 0.41689373297002724 | val loss 46.18062973022461\n",
      "------------------------------------------------------------------------------------------------------------------------\n"
     ]
    }
   ],
   "source": [
    "for epoch in range(1, EPOCHS + 1):\n",
    "    epoch_start_time = time.time()\n",
    "    train(train_dataloader)\n",
    "    accu_val,val_loss = evaluate(val_dataloader)\n",
    "    total_accu = accu_val\n",
    "    print(f'| end of epoch {epoch} | time: {time.time()-epoch_start_time}s | val accuracy: {accu_val} | val loss {val_loss}')\n",
    "    print('-' * 120)"
   ]
  },
  {
   "cell_type": "code",
   "execution_count": 222,
   "metadata": {},
   "outputs": [
    {
     "output_type": "execute_result",
     "data": {
      "text/plain": [
       "(0.4411764705882353, tensor(94.2350))"
      ]
     },
     "metadata": {},
     "execution_count": 222
    }
   ],
   "source": [
    "evaluate(test_dataloader)"
   ]
  },
  {
   "cell_type": "code",
   "execution_count": 223,
   "metadata": {},
   "outputs": [],
   "source": [
    "import seaborn as sns\n",
    "from sklearn.metrics import classification_report,confusion_matrix,accuracy_score, f1_score\n",
    "def test_metrics(dataloader):\n",
    "    model.eval()\n",
    "    total_acc,total_count=0,0\n",
    "    preds=[]\n",
    "    with torch.no_grad():\n",
    "            for batch in dataloader:\n",
    "                label,text,features=batch\n",
    "                predicted_label = model(features)\n",
    "                loss = criterion(predicted_label, label)\n",
    "                total_acc += (predicted_label.argmax(1) == label).sum().item()\n",
    "                preds.append(predicted_label.argmax(1))\n",
    "                total_count += label.size(0)\n",
    "            predicted_labels=torch.cat(preds,dim=0)\n",
    "            f1_s=f1_score(torch.tensor(test_df['label']),predicted_labels,average='macro')\n",
    "            print(\"F1-score =\",f1_s)\n",
    "            cm=confusion_matrix(torch.tensor(test_df['label']),predicted_labels)\n",
    "            plt.figure(figsize = (10,7))\n",
    "            sns.heatmap(cm,annot=True)\n",
    "            return total_acc/total_count, predicted_labels"
   ]
  },
  {
   "cell_type": "code",
   "execution_count": 224,
   "metadata": {},
   "outputs": [
    {
     "output_type": "stream",
     "name": "stdout",
     "text": [
      "F1-score = 0.4105923125511947\n"
     ]
    },
    {
     "output_type": "display_data",
     "data": {
      "text/plain": "<Figure size 720x504 with 2 Axes>",
      "image/svg+xml": "<?xml version=\"1.0\" encoding=\"utf-8\" standalone=\"no\"?>\r\n<!DOCTYPE svg PUBLIC \"-//W3C//DTD SVG 1.1//EN\"\r\n  \"http://www.w3.org/Graphics/SVG/1.1/DTD/svg11.dtd\">\r\n<svg height=\"411.598125pt\" version=\"1.1\" viewBox=\"0 0 550.491625 411.598125\" width=\"550.491625pt\" xmlns=\"http://www.w3.org/2000/svg\" xmlns:xlink=\"http://www.w3.org/1999/xlink\">\r\n <metadata>\r\n  <rdf:RDF xmlns:cc=\"http://creativecommons.org/ns#\" xmlns:dc=\"http://purl.org/dc/elements/1.1/\" xmlns:rdf=\"http://www.w3.org/1999/02/22-rdf-syntax-ns#\">\r\n   <cc:Work>\r\n    <dc:type rdf:resource=\"http://purl.org/dc/dcmitype/StillImage\"/>\r\n    <dc:date>2021-07-20T08:29:59.799867</dc:date>\r\n    <dc:format>image/svg+xml</dc:format>\r\n    <dc:creator>\r\n     <cc:Agent>\r\n      <dc:title>Matplotlib v3.4.2, https://matplotlib.org/</dc:title>\r\n     </cc:Agent>\r\n    </dc:creator>\r\n   </cc:Work>\r\n  </rdf:RDF>\r\n </metadata>\r\n <defs>\r\n  <style type=\"text/css\">*{stroke-linecap:butt;stroke-linejoin:round;}</style>\r\n </defs>\r\n <g id=\"figure_1\">\r\n  <g id=\"patch_1\">\r\n   <path d=\"M 0 411.598125 \r\nL 550.491625 411.598125 \r\nL 550.491625 0 \r\nL 0 0 \r\nz\r\n\" style=\"fill:none;\"/>\r\n  </g>\r\n  <g id=\"axes_1\">\r\n   <g id=\"patch_2\">\r\n    <path d=\"M 23.878125 387.72 \r\nL 470.278125 387.72 \r\nL 470.278125 7.2 \r\nL 23.878125 7.2 \r\nz\r\n\" style=\"fill:#ffffff;\"/>\r\n   </g>\r\n   <g id=\"QuadMesh_1\">\r\n    <path clip-path=\"url(#p1ea706d433)\" d=\"M 23.878125 7.2 \r\nL 113.158125 7.2 \r\nL 113.158125 83.304 \r\nL 23.878125 83.304 \r\nL 23.878125 7.2 \r\n\" style=\"fill:#4b1d4a;\"/>\r\n    <path clip-path=\"url(#p1ea706d433)\" d=\"M 113.158125 7.2 \r\nL 202.438125 7.2 \r\nL 202.438125 83.304 \r\nL 113.158125 83.304 \r\nL 113.158125 7.2 \r\n\" style=\"fill:#901d5b;\"/>\r\n    <path clip-path=\"url(#p1ea706d433)\" d=\"M 202.438125 7.2 \r\nL 291.718125 7.2 \r\nL 291.718125 83.304 \r\nL 202.438125 83.304 \r\nL 202.438125 7.2 \r\n\" style=\"fill:#170f28;\"/>\r\n    <path clip-path=\"url(#p1ea706d433)\" d=\"M 291.718125 7.2 \r\nL 380.998125 7.2 \r\nL 380.998125 83.304 \r\nL 291.718125 83.304 \r\nL 291.718125 7.2 \r\n\" style=\"fill:#180f29;\"/>\r\n    <path clip-path=\"url(#p1ea706d433)\" d=\"M 380.998125 7.2 \r\nL 470.278125 7.2 \r\nL 470.278125 83.304 \r\nL 380.998125 83.304 \r\nL 380.998125 7.2 \r\n\" style=\"fill:#03051a;\"/>\r\n    <path clip-path=\"url(#p1ea706d433)\" d=\"M 23.878125 83.304 \r\nL 113.158125 83.304 \r\nL 113.158125 159.408 \r\nL 23.878125 159.408 \r\nL 23.878125 83.304 \r\n\" style=\"fill:#33183c;\"/>\r\n    <path clip-path=\"url(#p1ea706d433)\" d=\"M 113.158125 83.304 \r\nL 202.438125 83.304 \r\nL 202.438125 159.408 \r\nL 113.158125 159.408 \r\nL 113.158125 83.304 \r\n\" style=\"fill:#faebdd;\"/>\r\n    <path clip-path=\"url(#p1ea706d433)\" d=\"M 202.438125 83.304 \r\nL 291.718125 83.304 \r\nL 291.718125 159.408 \r\nL 202.438125 159.408 \r\nL 202.438125 83.304 \r\n\" style=\"fill:#481c48;\"/>\r\n    <path clip-path=\"url(#p1ea706d433)\" d=\"M 291.718125 83.304 \r\nL 380.998125 83.304 \r\nL 380.998125 159.408 \r\nL 291.718125 159.408 \r\nL 291.718125 83.304 \r\n\" style=\"fill:#681f55;\"/>\r\n    <path clip-path=\"url(#p1ea706d433)\" d=\"M 380.998125 83.304 \r\nL 470.278125 83.304 \r\nL 470.278125 159.408 \r\nL 380.998125 159.408 \r\nL 380.998125 83.304 \r\n\" style=\"fill:#0a091f;\"/>\r\n    <path clip-path=\"url(#p1ea706d433)\" d=\"M 23.878125 159.408 \r\nL 113.158125 159.408 \r\nL 113.158125 235.512 \r\nL 23.878125 235.512 \r\nL 23.878125 159.408 \r\n\" style=\"fill:#0a091f;\"/>\r\n    <path clip-path=\"url(#p1ea706d433)\" d=\"M 113.158125 159.408 \r\nL 202.438125 159.408 \r\nL 202.438125 235.512 \r\nL 113.158125 235.512 \r\nL 113.158125 159.408 \r\n\" style=\"fill:#a4195b;\"/>\r\n    <path clip-path=\"url(#p1ea706d433)\" d=\"M 202.438125 159.408 \r\nL 291.718125 159.408 \r\nL 291.718125 235.512 \r\nL 202.438125 235.512 \r\nL 202.438125 159.408 \r\n\" style=\"fill:#451c47;\"/>\r\n    <path clip-path=\"url(#p1ea706d433)\" d=\"M 291.718125 159.408 \r\nL 380.998125 159.408 \r\nL 380.998125 235.512 \r\nL 291.718125 235.512 \r\nL 291.718125 159.408 \r\n\" style=\"fill:#7f1e5a;\"/>\r\n    <path clip-path=\"url(#p1ea706d433)\" d=\"M 380.998125 159.408 \r\nL 470.278125 159.408 \r\nL 470.278125 235.512 \r\nL 380.998125 235.512 \r\nL 380.998125 159.408 \r\n\" style=\"fill:#100b23;\"/>\r\n    <path clip-path=\"url(#p1ea706d433)\" d=\"M 23.878125 235.512 \r\nL 113.158125 235.512 \r\nL 113.158125 311.616 \r\nL 23.878125 311.616 \r\nL 23.878125 235.512 \r\n\" style=\"fill:#03051a;\"/>\r\n    <path clip-path=\"url(#p1ea706d433)\" d=\"M 113.158125 235.512 \r\nL 202.438125 235.512 \r\nL 202.438125 311.616 \r\nL 113.158125 311.616 \r\nL 113.158125 235.512 \r\n\" style=\"fill:#661f54;\"/>\r\n    <path clip-path=\"url(#p1ea706d433)\" d=\"M 202.438125 235.512 \r\nL 291.718125 235.512 \r\nL 291.718125 311.616 \r\nL 202.438125 311.616 \r\nL 202.438125 235.512 \r\n\" style=\"fill:#211330;\"/>\r\n    <path clip-path=\"url(#p1ea706d433)\" d=\"M 291.718125 235.512 \r\nL 380.998125 235.512 \r\nL 380.998125 311.616 \r\nL 291.718125 311.616 \r\nL 291.718125 235.512 \r\n\" style=\"fill:#f37450;\"/>\r\n    <path clip-path=\"url(#p1ea706d433)\" d=\"M 380.998125 235.512 \r\nL 470.278125 235.512 \r\nL 470.278125 311.616 \r\nL 380.998125 311.616 \r\nL 380.998125 235.512 \r\n\" style=\"fill:#581e4f;\"/>\r\n    <path clip-path=\"url(#p1ea706d433)\" d=\"M 23.878125 311.616 \r\nL 113.158125 311.616 \r\nL 113.158125 387.72 \r\nL 23.878125 387.72 \r\nL 23.878125 311.616 \r\n\" style=\"fill:#03051a;\"/>\r\n    <path clip-path=\"url(#p1ea706d433)\" d=\"M 113.158125 311.616 \r\nL 202.438125 311.616 \r\nL 202.438125 387.72 \r\nL 113.158125 387.72 \r\nL 113.158125 311.616 \r\n\" style=\"fill:#20122e;\"/>\r\n    <path clip-path=\"url(#p1ea706d433)\" d=\"M 202.438125 311.616 \r\nL 291.718125 311.616 \r\nL 291.718125 387.72 \r\nL 202.438125 387.72 \r\nL 202.438125 311.616 \r\n\" style=\"fill:#0b0920;\"/>\r\n    <path clip-path=\"url(#p1ea706d433)\" d=\"M 291.718125 311.616 \r\nL 380.998125 311.616 \r\nL 380.998125 387.72 \r\nL 291.718125 387.72 \r\nL 291.718125 311.616 \r\n\" style=\"fill:#c11754;\"/>\r\n    <path clip-path=\"url(#p1ea706d433)\" d=\"M 380.998125 311.616 \r\nL 470.278125 311.616 \r\nL 470.278125 387.72 \r\nL 380.998125 387.72 \r\nL 380.998125 311.616 \r\n\" style=\"fill:#a8185a;\"/>\r\n   </g>\r\n   <g id=\"matplotlib.axis_1\">\r\n    <g id=\"xtick_1\">\r\n     <g id=\"line2d_1\">\r\n      <defs>\r\n       <path d=\"M 0 0 \r\nL 0 3.5 \r\n\" id=\"mee165f9cbf\" style=\"stroke:#000000;stroke-width:0.8;\"/>\r\n      </defs>\r\n      <g>\r\n       <use style=\"stroke:#000000;stroke-width:0.8;\" x=\"68.518125\" xlink:href=\"#mee165f9cbf\" y=\"387.72\"/>\r\n      </g>\r\n     </g>\r\n     <g id=\"text_1\">\r\n      <!-- 0 -->\r\n      <g transform=\"translate(65.336875 402.318437)scale(0.1 -0.1)\">\r\n       <defs>\r\n        <path d=\"M 2034 4250 \r\nQ 1547 4250 1301 3770 \r\nQ 1056 3291 1056 2328 \r\nQ 1056 1369 1301 889 \r\nQ 1547 409 2034 409 \r\nQ 2525 409 2770 889 \r\nQ 3016 1369 3016 2328 \r\nQ 3016 3291 2770 3770 \r\nQ 2525 4250 2034 4250 \r\nz\r\nM 2034 4750 \r\nQ 2819 4750 3233 4129 \r\nQ 3647 3509 3647 2328 \r\nQ 3647 1150 3233 529 \r\nQ 2819 -91 2034 -91 \r\nQ 1250 -91 836 529 \r\nQ 422 1150 422 2328 \r\nQ 422 3509 836 4129 \r\nQ 1250 4750 2034 4750 \r\nz\r\n\" id=\"DejaVuSans-30\" transform=\"scale(0.015625)\"/>\r\n       </defs>\r\n       <use xlink:href=\"#DejaVuSans-30\"/>\r\n      </g>\r\n     </g>\r\n    </g>\r\n    <g id=\"xtick_2\">\r\n     <g id=\"line2d_2\">\r\n      <g>\r\n       <use style=\"stroke:#000000;stroke-width:0.8;\" x=\"157.798125\" xlink:href=\"#mee165f9cbf\" y=\"387.72\"/>\r\n      </g>\r\n     </g>\r\n     <g id=\"text_2\">\r\n      <!-- 1 -->\r\n      <g transform=\"translate(154.616875 402.318437)scale(0.1 -0.1)\">\r\n       <defs>\r\n        <path d=\"M 794 531 \r\nL 1825 531 \r\nL 1825 4091 \r\nL 703 3866 \r\nL 703 4441 \r\nL 1819 4666 \r\nL 2450 4666 \r\nL 2450 531 \r\nL 3481 531 \r\nL 3481 0 \r\nL 794 0 \r\nL 794 531 \r\nz\r\n\" id=\"DejaVuSans-31\" transform=\"scale(0.015625)\"/>\r\n       </defs>\r\n       <use xlink:href=\"#DejaVuSans-31\"/>\r\n      </g>\r\n     </g>\r\n    </g>\r\n    <g id=\"xtick_3\">\r\n     <g id=\"line2d_3\">\r\n      <g>\r\n       <use style=\"stroke:#000000;stroke-width:0.8;\" x=\"247.078125\" xlink:href=\"#mee165f9cbf\" y=\"387.72\"/>\r\n      </g>\r\n     </g>\r\n     <g id=\"text_3\">\r\n      <!-- 2 -->\r\n      <g transform=\"translate(243.896875 402.318437)scale(0.1 -0.1)\">\r\n       <defs>\r\n        <path d=\"M 1228 531 \r\nL 3431 531 \r\nL 3431 0 \r\nL 469 0 \r\nL 469 531 \r\nQ 828 903 1448 1529 \r\nQ 2069 2156 2228 2338 \r\nQ 2531 2678 2651 2914 \r\nQ 2772 3150 2772 3378 \r\nQ 2772 3750 2511 3984 \r\nQ 2250 4219 1831 4219 \r\nQ 1534 4219 1204 4116 \r\nQ 875 4013 500 3803 \r\nL 500 4441 \r\nQ 881 4594 1212 4672 \r\nQ 1544 4750 1819 4750 \r\nQ 2544 4750 2975 4387 \r\nQ 3406 4025 3406 3419 \r\nQ 3406 3131 3298 2873 \r\nQ 3191 2616 2906 2266 \r\nQ 2828 2175 2409 1742 \r\nQ 1991 1309 1228 531 \r\nz\r\n\" id=\"DejaVuSans-32\" transform=\"scale(0.015625)\"/>\r\n       </defs>\r\n       <use xlink:href=\"#DejaVuSans-32\"/>\r\n      </g>\r\n     </g>\r\n    </g>\r\n    <g id=\"xtick_4\">\r\n     <g id=\"line2d_4\">\r\n      <g>\r\n       <use style=\"stroke:#000000;stroke-width:0.8;\" x=\"336.358125\" xlink:href=\"#mee165f9cbf\" y=\"387.72\"/>\r\n      </g>\r\n     </g>\r\n     <g id=\"text_4\">\r\n      <!-- 3 -->\r\n      <g transform=\"translate(333.176875 402.318437)scale(0.1 -0.1)\">\r\n       <defs>\r\n        <path d=\"M 2597 2516 \r\nQ 3050 2419 3304 2112 \r\nQ 3559 1806 3559 1356 \r\nQ 3559 666 3084 287 \r\nQ 2609 -91 1734 -91 \r\nQ 1441 -91 1130 -33 \r\nQ 819 25 488 141 \r\nL 488 750 \r\nQ 750 597 1062 519 \r\nQ 1375 441 1716 441 \r\nQ 2309 441 2620 675 \r\nQ 2931 909 2931 1356 \r\nQ 2931 1769 2642 2001 \r\nQ 2353 2234 1838 2234 \r\nL 1294 2234 \r\nL 1294 2753 \r\nL 1863 2753 \r\nQ 2328 2753 2575 2939 \r\nQ 2822 3125 2822 3475 \r\nQ 2822 3834 2567 4026 \r\nQ 2313 4219 1838 4219 \r\nQ 1578 4219 1281 4162 \r\nQ 984 4106 628 3988 \r\nL 628 4550 \r\nQ 988 4650 1302 4700 \r\nQ 1616 4750 1894 4750 \r\nQ 2613 4750 3031 4423 \r\nQ 3450 4097 3450 3541 \r\nQ 3450 3153 3228 2886 \r\nQ 3006 2619 2597 2516 \r\nz\r\n\" id=\"DejaVuSans-33\" transform=\"scale(0.015625)\"/>\r\n       </defs>\r\n       <use xlink:href=\"#DejaVuSans-33\"/>\r\n      </g>\r\n     </g>\r\n    </g>\r\n    <g id=\"xtick_5\">\r\n     <g id=\"line2d_5\">\r\n      <g>\r\n       <use style=\"stroke:#000000;stroke-width:0.8;\" x=\"425.638125\" xlink:href=\"#mee165f9cbf\" y=\"387.72\"/>\r\n      </g>\r\n     </g>\r\n     <g id=\"text_5\">\r\n      <!-- 4 -->\r\n      <g transform=\"translate(422.456875 402.318437)scale(0.1 -0.1)\">\r\n       <defs>\r\n        <path d=\"M 2419 4116 \r\nL 825 1625 \r\nL 2419 1625 \r\nL 2419 4116 \r\nz\r\nM 2253 4666 \r\nL 3047 4666 \r\nL 3047 1625 \r\nL 3713 1625 \r\nL 3713 1100 \r\nL 3047 1100 \r\nL 3047 0 \r\nL 2419 0 \r\nL 2419 1100 \r\nL 313 1100 \r\nL 313 1709 \r\nL 2253 4666 \r\nz\r\n\" id=\"DejaVuSans-34\" transform=\"scale(0.015625)\"/>\r\n       </defs>\r\n       <use xlink:href=\"#DejaVuSans-34\"/>\r\n      </g>\r\n     </g>\r\n    </g>\r\n   </g>\r\n   <g id=\"matplotlib.axis_2\">\r\n    <g id=\"ytick_1\">\r\n     <g id=\"line2d_6\">\r\n      <defs>\r\n       <path d=\"M 0 0 \r\nL -3.5 0 \r\n\" id=\"mcca97f6fdd\" style=\"stroke:#000000;stroke-width:0.8;\"/>\r\n      </defs>\r\n      <g>\r\n       <use style=\"stroke:#000000;stroke-width:0.8;\" x=\"23.878125\" xlink:href=\"#mcca97f6fdd\" y=\"45.252\"/>\r\n      </g>\r\n     </g>\r\n     <g id=\"text_6\">\r\n      <!-- 0 -->\r\n      <g transform=\"translate(14.798437 47.815281)rotate(-90)scale(0.1 -0.1)\">\r\n       <use xlink:href=\"#DejaVuSans-30\"/>\r\n      </g>\r\n     </g>\r\n    </g>\r\n    <g id=\"ytick_2\">\r\n     <g id=\"line2d_7\">\r\n      <g>\r\n       <use style=\"stroke:#000000;stroke-width:0.8;\" x=\"23.878125\" xlink:href=\"#mcca97f6fdd\" y=\"121.356\"/>\r\n      </g>\r\n     </g>\r\n     <g id=\"text_7\">\r\n      <!-- 1 -->\r\n      <g transform=\"translate(14.798437 123.919281)rotate(-90)scale(0.1 -0.1)\">\r\n       <use xlink:href=\"#DejaVuSans-31\"/>\r\n      </g>\r\n     </g>\r\n    </g>\r\n    <g id=\"ytick_3\">\r\n     <g id=\"line2d_8\">\r\n      <g>\r\n       <use style=\"stroke:#000000;stroke-width:0.8;\" x=\"23.878125\" xlink:href=\"#mcca97f6fdd\" y=\"197.46\"/>\r\n      </g>\r\n     </g>\r\n     <g id=\"text_8\">\r\n      <!-- 2 -->\r\n      <g transform=\"translate(14.798437 200.023281)rotate(-90)scale(0.1 -0.1)\">\r\n       <use xlink:href=\"#DejaVuSans-32\"/>\r\n      </g>\r\n     </g>\r\n    </g>\r\n    <g id=\"ytick_4\">\r\n     <g id=\"line2d_9\">\r\n      <g>\r\n       <use style=\"stroke:#000000;stroke-width:0.8;\" x=\"23.878125\" xlink:href=\"#mcca97f6fdd\" y=\"273.564\"/>\r\n      </g>\r\n     </g>\r\n     <g id=\"text_9\">\r\n      <!-- 3 -->\r\n      <g transform=\"translate(14.798437 276.127281)rotate(-90)scale(0.1 -0.1)\">\r\n       <use xlink:href=\"#DejaVuSans-33\"/>\r\n      </g>\r\n     </g>\r\n    </g>\r\n    <g id=\"ytick_5\">\r\n     <g id=\"line2d_10\">\r\n      <g>\r\n       <use style=\"stroke:#000000;stroke-width:0.8;\" x=\"23.878125\" xlink:href=\"#mcca97f6fdd\" y=\"349.668\"/>\r\n      </g>\r\n     </g>\r\n     <g id=\"text_10\">\r\n      <!-- 4 -->\r\n      <g transform=\"translate(14.798437 352.231281)rotate(-90)scale(0.1 -0.1)\">\r\n       <use xlink:href=\"#DejaVuSans-34\"/>\r\n      </g>\r\n     </g>\r\n    </g>\r\n   </g>\r\n   <g id=\"text_11\">\r\n    <!-- 79 -->\r\n    <g style=\"fill:#ffffff;\" transform=\"translate(62.155625 48.011375)scale(0.1 -0.1)\">\r\n     <defs>\r\n      <path d=\"M 525 4666 \r\nL 3525 4666 \r\nL 3525 4397 \r\nL 1831 0 \r\nL 1172 0 \r\nL 2766 4134 \r\nL 525 4134 \r\nL 525 4666 \r\nz\r\n\" id=\"DejaVuSans-37\" transform=\"scale(0.015625)\"/>\r\n      <path d=\"M 703 97 \r\nL 703 672 \r\nQ 941 559 1184 500 \r\nQ 1428 441 1663 441 \r\nQ 2288 441 2617 861 \r\nQ 2947 1281 2994 2138 \r\nQ 2813 1869 2534 1725 \r\nQ 2256 1581 1919 1581 \r\nQ 1219 1581 811 2004 \r\nQ 403 2428 403 3163 \r\nQ 403 3881 828 4315 \r\nQ 1253 4750 1959 4750 \r\nQ 2769 4750 3195 4129 \r\nQ 3622 3509 3622 2328 \r\nQ 3622 1225 3098 567 \r\nQ 2575 -91 1691 -91 \r\nQ 1453 -91 1209 -44 \r\nQ 966 3 703 97 \r\nz\r\nM 1959 2075 \r\nQ 2384 2075 2632 2365 \r\nQ 2881 2656 2881 3163 \r\nQ 2881 3666 2632 3958 \r\nQ 2384 4250 1959 4250 \r\nQ 1534 4250 1286 3958 \r\nQ 1038 3666 1038 3163 \r\nQ 1038 2656 1286 2365 \r\nQ 1534 2075 1959 2075 \r\nz\r\n\" id=\"DejaVuSans-39\" transform=\"scale(0.015625)\"/>\r\n     </defs>\r\n     <use xlink:href=\"#DejaVuSans-37\"/>\r\n     <use x=\"63.623047\" xlink:href=\"#DejaVuSans-39\"/>\r\n    </g>\r\n   </g>\r\n   <g id=\"text_12\">\r\n    <!-- 1.4e+02 -->\r\n    <g style=\"fill:#ffffff;\" transform=\"translate(136.217656 48.011375)scale(0.1 -0.1)\">\r\n     <defs>\r\n      <path d=\"M 684 794 \r\nL 1344 794 \r\nL 1344 0 \r\nL 684 0 \r\nL 684 794 \r\nz\r\n\" id=\"DejaVuSans-2e\" transform=\"scale(0.015625)\"/>\r\n      <path d=\"M 3597 1894 \r\nL 3597 1613 \r\nL 953 1613 \r\nQ 991 1019 1311 708 \r\nQ 1631 397 2203 397 \r\nQ 2534 397 2845 478 \r\nQ 3156 559 3463 722 \r\nL 3463 178 \r\nQ 3153 47 2828 -22 \r\nQ 2503 -91 2169 -91 \r\nQ 1331 -91 842 396 \r\nQ 353 884 353 1716 \r\nQ 353 2575 817 3079 \r\nQ 1281 3584 2069 3584 \r\nQ 2775 3584 3186 3129 \r\nQ 3597 2675 3597 1894 \r\nz\r\nM 3022 2063 \r\nQ 3016 2534 2758 2815 \r\nQ 2500 3097 2075 3097 \r\nQ 1594 3097 1305 2825 \r\nQ 1016 2553 972 2059 \r\nL 3022 2063 \r\nz\r\n\" id=\"DejaVuSans-65\" transform=\"scale(0.015625)\"/>\r\n      <path d=\"M 2944 4013 \r\nL 2944 2272 \r\nL 4684 2272 \r\nL 4684 1741 \r\nL 2944 1741 \r\nL 2944 0 \r\nL 2419 0 \r\nL 2419 1741 \r\nL 678 1741 \r\nL 678 2272 \r\nL 2419 2272 \r\nL 2419 4013 \r\nL 2944 4013 \r\nz\r\n\" id=\"DejaVuSans-2b\" transform=\"scale(0.015625)\"/>\r\n     </defs>\r\n     <use xlink:href=\"#DejaVuSans-31\"/>\r\n     <use x=\"63.623047\" xlink:href=\"#DejaVuSans-2e\"/>\r\n     <use x=\"95.410156\" xlink:href=\"#DejaVuSans-34\"/>\r\n     <use x=\"159.033203\" xlink:href=\"#DejaVuSans-65\"/>\r\n     <use x=\"220.556641\" xlink:href=\"#DejaVuSans-2b\"/>\r\n     <use x=\"304.345703\" xlink:href=\"#DejaVuSans-30\"/>\r\n     <use x=\"367.96875\" xlink:href=\"#DejaVuSans-32\"/>\r\n    </g>\r\n   </g>\r\n   <g id=\"text_13\">\r\n    <!-- 26 -->\r\n    <g style=\"fill:#ffffff;\" transform=\"translate(240.715625 48.011375)scale(0.1 -0.1)\">\r\n     <defs>\r\n      <path d=\"M 2113 2584 \r\nQ 1688 2584 1439 2293 \r\nQ 1191 2003 1191 1497 \r\nQ 1191 994 1439 701 \r\nQ 1688 409 2113 409 \r\nQ 2538 409 2786 701 \r\nQ 3034 994 3034 1497 \r\nQ 3034 2003 2786 2293 \r\nQ 2538 2584 2113 2584 \r\nz\r\nM 3366 4563 \r\nL 3366 3988 \r\nQ 3128 4100 2886 4159 \r\nQ 2644 4219 2406 4219 \r\nQ 1781 4219 1451 3797 \r\nQ 1122 3375 1075 2522 \r\nQ 1259 2794 1537 2939 \r\nQ 1816 3084 2150 3084 \r\nQ 2853 3084 3261 2657 \r\nQ 3669 2231 3669 1497 \r\nQ 3669 778 3244 343 \r\nQ 2819 -91 2113 -91 \r\nQ 1303 -91 875 529 \r\nQ 447 1150 447 2328 \r\nQ 447 3434 972 4092 \r\nQ 1497 4750 2381 4750 \r\nQ 2619 4750 2861 4703 \r\nQ 3103 4656 3366 4563 \r\nz\r\n\" id=\"DejaVuSans-36\" transform=\"scale(0.015625)\"/>\r\n     </defs>\r\n     <use xlink:href=\"#DejaVuSans-32\"/>\r\n     <use x=\"63.623047\" xlink:href=\"#DejaVuSans-36\"/>\r\n    </g>\r\n   </g>\r\n   <g id=\"text_14\">\r\n    <!-- 28 -->\r\n    <g style=\"fill:#ffffff;\" transform=\"translate(329.995625 48.011375)scale(0.1 -0.1)\">\r\n     <defs>\r\n      <path d=\"M 2034 2216 \r\nQ 1584 2216 1326 1975 \r\nQ 1069 1734 1069 1313 \r\nQ 1069 891 1326 650 \r\nQ 1584 409 2034 409 \r\nQ 2484 409 2743 651 \r\nQ 3003 894 3003 1313 \r\nQ 3003 1734 2745 1975 \r\nQ 2488 2216 2034 2216 \r\nz\r\nM 1403 2484 \r\nQ 997 2584 770 2862 \r\nQ 544 3141 544 3541 \r\nQ 544 4100 942 4425 \r\nQ 1341 4750 2034 4750 \r\nQ 2731 4750 3128 4425 \r\nQ 3525 4100 3525 3541 \r\nQ 3525 3141 3298 2862 \r\nQ 3072 2584 2669 2484 \r\nQ 3125 2378 3379 2068 \r\nQ 3634 1759 3634 1313 \r\nQ 3634 634 3220 271 \r\nQ 2806 -91 2034 -91 \r\nQ 1263 -91 848 271 \r\nQ 434 634 434 1313 \r\nQ 434 1759 690 2068 \r\nQ 947 2378 1403 2484 \r\nz\r\nM 1172 3481 \r\nQ 1172 3119 1398 2916 \r\nQ 1625 2713 2034 2713 \r\nQ 2441 2713 2670 2916 \r\nQ 2900 3119 2900 3481 \r\nQ 2900 3844 2670 4047 \r\nQ 2441 4250 2034 4250 \r\nQ 1625 4250 1398 4047 \r\nQ 1172 3844 1172 3481 \r\nz\r\n\" id=\"DejaVuSans-38\" transform=\"scale(0.015625)\"/>\r\n     </defs>\r\n     <use xlink:href=\"#DejaVuSans-32\"/>\r\n     <use x=\"63.623047\" xlink:href=\"#DejaVuSans-38\"/>\r\n    </g>\r\n   </g>\r\n   <g id=\"text_15\">\r\n    <!-- 4 -->\r\n    <g style=\"fill:#ffffff;\" transform=\"translate(422.456875 48.011375)scale(0.1 -0.1)\">\r\n     <use xlink:href=\"#DejaVuSans-34\"/>\r\n    </g>\r\n   </g>\r\n   <g id=\"text_16\">\r\n    <!-- 54 -->\r\n    <g style=\"fill:#ffffff;\" transform=\"translate(62.155625 124.115375)scale(0.1 -0.1)\">\r\n     <defs>\r\n      <path d=\"M 691 4666 \r\nL 3169 4666 \r\nL 3169 4134 \r\nL 1269 4134 \r\nL 1269 2991 \r\nQ 1406 3038 1543 3061 \r\nQ 1681 3084 1819 3084 \r\nQ 2600 3084 3056 2656 \r\nQ 3513 2228 3513 1497 \r\nQ 3513 744 3044 326 \r\nQ 2575 -91 1722 -91 \r\nQ 1428 -91 1123 -41 \r\nQ 819 9 494 109 \r\nL 494 744 \r\nQ 775 591 1075 516 \r\nQ 1375 441 1709 441 \r\nQ 2250 441 2565 725 \r\nQ 2881 1009 2881 1497 \r\nQ 2881 1984 2565 2268 \r\nQ 2250 2553 1709 2553 \r\nQ 1456 2553 1204 2497 \r\nQ 953 2441 691 2322 \r\nL 691 4666 \r\nz\r\n\" id=\"DejaVuSans-35\" transform=\"scale(0.015625)\"/>\r\n     </defs>\r\n     <use xlink:href=\"#DejaVuSans-35\"/>\r\n     <use x=\"63.623047\" xlink:href=\"#DejaVuSans-34\"/>\r\n    </g>\r\n   </g>\r\n   <g id=\"text_17\">\r\n    <!-- 3.9e+02 -->\r\n    <g style=\"fill:#262626;\" transform=\"translate(136.217656 124.115375)scale(0.1 -0.1)\">\r\n     <use xlink:href=\"#DejaVuSans-33\"/>\r\n     <use x=\"63.623047\" xlink:href=\"#DejaVuSans-2e\"/>\r\n     <use x=\"95.410156\" xlink:href=\"#DejaVuSans-39\"/>\r\n     <use x=\"159.033203\" xlink:href=\"#DejaVuSans-65\"/>\r\n     <use x=\"220.556641\" xlink:href=\"#DejaVuSans-2b\"/>\r\n     <use x=\"304.345703\" xlink:href=\"#DejaVuSans-30\"/>\r\n     <use x=\"367.96875\" xlink:href=\"#DejaVuSans-32\"/>\r\n    </g>\r\n   </g>\r\n   <g id=\"text_18\">\r\n    <!-- 75 -->\r\n    <g style=\"fill:#ffffff;\" transform=\"translate(240.715625 124.115375)scale(0.1 -0.1)\">\r\n     <use xlink:href=\"#DejaVuSans-37\"/>\r\n     <use x=\"63.623047\" xlink:href=\"#DejaVuSans-35\"/>\r\n    </g>\r\n   </g>\r\n   <g id=\"text_19\">\r\n    <!-- 1e+02 -->\r\n    <g style=\"fill:#ffffff;\" transform=\"translate(319.547969 124.115375)scale(0.1 -0.1)\">\r\n     <use xlink:href=\"#DejaVuSans-31\"/>\r\n     <use x=\"63.623047\" xlink:href=\"#DejaVuSans-65\"/>\r\n     <use x=\"125.146484\" xlink:href=\"#DejaVuSans-2b\"/>\r\n     <use x=\"208.935547\" xlink:href=\"#DejaVuSans-30\"/>\r\n     <use x=\"272.558594\" xlink:href=\"#DejaVuSans-32\"/>\r\n    </g>\r\n   </g>\r\n   <g id=\"text_20\">\r\n    <!-- 13 -->\r\n    <g style=\"fill:#ffffff;\" transform=\"translate(419.275625 124.115375)scale(0.1 -0.1)\">\r\n     <use xlink:href=\"#DejaVuSans-31\"/>\r\n     <use x=\"63.623047\" xlink:href=\"#DejaVuSans-33\"/>\r\n    </g>\r\n   </g>\r\n   <g id=\"text_21\">\r\n    <!-- 12 -->\r\n    <g style=\"fill:#ffffff;\" transform=\"translate(62.155625 200.219375)scale(0.1 -0.1)\">\r\n     <use xlink:href=\"#DejaVuSans-31\"/>\r\n     <use x=\"63.623047\" xlink:href=\"#DejaVuSans-32\"/>\r\n    </g>\r\n   </g>\r\n   <g id=\"text_22\">\r\n    <!-- 1.6e+02 -->\r\n    <g style=\"fill:#ffffff;\" transform=\"translate(136.217656 200.219375)scale(0.1 -0.1)\">\r\n     <use xlink:href=\"#DejaVuSans-31\"/>\r\n     <use x=\"63.623047\" xlink:href=\"#DejaVuSans-2e\"/>\r\n     <use x=\"95.410156\" xlink:href=\"#DejaVuSans-36\"/>\r\n     <use x=\"159.033203\" xlink:href=\"#DejaVuSans-65\"/>\r\n     <use x=\"220.556641\" xlink:href=\"#DejaVuSans-2b\"/>\r\n     <use x=\"304.345703\" xlink:href=\"#DejaVuSans-30\"/>\r\n     <use x=\"367.96875\" xlink:href=\"#DejaVuSans-32\"/>\r\n    </g>\r\n   </g>\r\n   <g id=\"text_23\">\r\n    <!-- 73 -->\r\n    <g style=\"fill:#ffffff;\" transform=\"translate(240.715625 200.219375)scale(0.1 -0.1)\">\r\n     <use xlink:href=\"#DejaVuSans-37\"/>\r\n     <use x=\"63.623047\" xlink:href=\"#DejaVuSans-33\"/>\r\n    </g>\r\n   </g>\r\n   <g id=\"text_24\">\r\n    <!-- 1.3e+02 -->\r\n    <g style=\"fill:#ffffff;\" transform=\"translate(314.777656 200.219375)scale(0.1 -0.1)\">\r\n     <use xlink:href=\"#DejaVuSans-31\"/>\r\n     <use x=\"63.623047\" xlink:href=\"#DejaVuSans-2e\"/>\r\n     <use x=\"95.410156\" xlink:href=\"#DejaVuSans-33\"/>\r\n     <use x=\"159.033203\" xlink:href=\"#DejaVuSans-65\"/>\r\n     <use x=\"220.556641\" xlink:href=\"#DejaVuSans-2b\"/>\r\n     <use x=\"304.345703\" xlink:href=\"#DejaVuSans-30\"/>\r\n     <use x=\"367.96875\" xlink:href=\"#DejaVuSans-32\"/>\r\n    </g>\r\n   </g>\r\n   <g id=\"text_25\">\r\n    <!-- 18 -->\r\n    <g style=\"fill:#ffffff;\" transform=\"translate(419.275625 200.219375)scale(0.1 -0.1)\">\r\n     <use xlink:href=\"#DejaVuSans-31\"/>\r\n     <use x=\"63.623047\" xlink:href=\"#DejaVuSans-38\"/>\r\n    </g>\r\n   </g>\r\n   <g id=\"text_26\">\r\n    <!-- 4 -->\r\n    <g style=\"fill:#ffffff;\" transform=\"translate(65.336875 276.323375)scale(0.1 -0.1)\">\r\n     <use xlink:href=\"#DejaVuSans-34\"/>\r\n    </g>\r\n   </g>\r\n   <g id=\"text_27\">\r\n    <!-- 1e+02 -->\r\n    <g style=\"fill:#ffffff;\" transform=\"translate(140.987969 276.323375)scale(0.1 -0.1)\">\r\n     <use xlink:href=\"#DejaVuSans-31\"/>\r\n     <use x=\"63.623047\" xlink:href=\"#DejaVuSans-65\"/>\r\n     <use x=\"125.146484\" xlink:href=\"#DejaVuSans-2b\"/>\r\n     <use x=\"208.935547\" xlink:href=\"#DejaVuSans-30\"/>\r\n     <use x=\"272.558594\" xlink:href=\"#DejaVuSans-32\"/>\r\n    </g>\r\n   </g>\r\n   <g id=\"text_28\">\r\n    <!-- 37 -->\r\n    <g style=\"fill:#ffffff;\" transform=\"translate(240.715625 276.323375)scale(0.1 -0.1)\">\r\n     <use xlink:href=\"#DejaVuSans-33\"/>\r\n     <use x=\"63.623047\" xlink:href=\"#DejaVuSans-37\"/>\r\n    </g>\r\n   </g>\r\n   <g id=\"text_29\">\r\n    <!-- 2.8e+02 -->\r\n    <g style=\"fill:#ffffff;\" transform=\"translate(314.777656 276.323375)scale(0.1 -0.1)\">\r\n     <use xlink:href=\"#DejaVuSans-32\"/>\r\n     <use x=\"63.623047\" xlink:href=\"#DejaVuSans-2e\"/>\r\n     <use x=\"95.410156\" xlink:href=\"#DejaVuSans-38\"/>\r\n     <use x=\"159.033203\" xlink:href=\"#DejaVuSans-65\"/>\r\n     <use x=\"220.556641\" xlink:href=\"#DejaVuSans-2b\"/>\r\n     <use x=\"304.345703\" xlink:href=\"#DejaVuSans-30\"/>\r\n     <use x=\"367.96875\" xlink:href=\"#DejaVuSans-32\"/>\r\n    </g>\r\n   </g>\r\n   <g id=\"text_30\">\r\n    <!-- 90 -->\r\n    <g style=\"fill:#ffffff;\" transform=\"translate(419.275625 276.323375)scale(0.1 -0.1)\">\r\n     <use xlink:href=\"#DejaVuSans-39\"/>\r\n     <use x=\"63.623047\" xlink:href=\"#DejaVuSans-30\"/>\r\n    </g>\r\n   </g>\r\n   <g id=\"text_31\">\r\n    <!-- 3 -->\r\n    <g style=\"fill:#ffffff;\" transform=\"translate(65.336875 352.427375)scale(0.1 -0.1)\">\r\n     <use xlink:href=\"#DejaVuSans-33\"/>\r\n    </g>\r\n   </g>\r\n   <g id=\"text_32\">\r\n    <!-- 35 -->\r\n    <g style=\"fill:#ffffff;\" transform=\"translate(151.435625 352.427375)scale(0.1 -0.1)\">\r\n     <use xlink:href=\"#DejaVuSans-33\"/>\r\n     <use x=\"63.623047\" xlink:href=\"#DejaVuSans-35\"/>\r\n    </g>\r\n   </g>\r\n   <g id=\"text_33\">\r\n    <!-- 14 -->\r\n    <g style=\"fill:#ffffff;\" transform=\"translate(240.715625 352.427375)scale(0.1 -0.1)\">\r\n     <use xlink:href=\"#DejaVuSans-31\"/>\r\n     <use x=\"63.623047\" xlink:href=\"#DejaVuSans-34\"/>\r\n    </g>\r\n   </g>\r\n   <g id=\"text_34\">\r\n    <!-- 1.8e+02 -->\r\n    <g style=\"fill:#ffffff;\" transform=\"translate(314.777656 352.427375)scale(0.1 -0.1)\">\r\n     <use xlink:href=\"#DejaVuSans-31\"/>\r\n     <use x=\"63.623047\" xlink:href=\"#DejaVuSans-2e\"/>\r\n     <use x=\"95.410156\" xlink:href=\"#DejaVuSans-38\"/>\r\n     <use x=\"159.033203\" xlink:href=\"#DejaVuSans-65\"/>\r\n     <use x=\"220.556641\" xlink:href=\"#DejaVuSans-2b\"/>\r\n     <use x=\"304.345703\" xlink:href=\"#DejaVuSans-30\"/>\r\n     <use x=\"367.96875\" xlink:href=\"#DejaVuSans-32\"/>\r\n    </g>\r\n   </g>\r\n   <g id=\"text_35\">\r\n    <!-- 1.6e+02 -->\r\n    <g style=\"fill:#ffffff;\" transform=\"translate(404.057656 352.427375)scale(0.1 -0.1)\">\r\n     <use xlink:href=\"#DejaVuSans-31\"/>\r\n     <use x=\"63.623047\" xlink:href=\"#DejaVuSans-2e\"/>\r\n     <use x=\"95.410156\" xlink:href=\"#DejaVuSans-36\"/>\r\n     <use x=\"159.033203\" xlink:href=\"#DejaVuSans-65\"/>\r\n     <use x=\"220.556641\" xlink:href=\"#DejaVuSans-2b\"/>\r\n     <use x=\"304.345703\" xlink:href=\"#DejaVuSans-30\"/>\r\n     <use x=\"367.96875\" xlink:href=\"#DejaVuSans-32\"/>\r\n    </g>\r\n   </g>\r\n  </g>\r\n  <g id=\"axes_2\">\r\n   <g id=\"patch_3\">\r\n    <path d=\"M 498.178125 387.72 \r\nL 517.204125 387.72 \r\nL 517.204125 7.2 \r\nL 498.178125 7.2 \r\nz\r\n\" style=\"fill:#ffffff;\"/>\r\n   </g>\r\n   <g id=\"patch_4\">\r\n    <path clip-path=\"url(#pba6a96b10f)\" d=\"M 498.178125 387.72 \r\nL 498.178125 386.233594 \r\nL 498.178125 8.686406 \r\nL 498.178125 7.2 \r\nL 517.204125 7.2 \r\nL 517.204125 8.686406 \r\nL 517.204125 386.233594 \r\nL 517.204125 387.72 \r\nL 517.204125 387.72 \r\nz\r\n\" style=\"fill:#ffffff;stroke:#ffffff;stroke-linejoin:miter;stroke-width:0.01;\"/>\r\n   </g>\r\n   <image height=\"380\" id=\"image91b302ce2a\" transform=\"scale(1 -1)translate(0 -380)\" width=\"19\" x=\"498\" xlink:href=\"data:image/png;base64,\r\niVBORw0KGgoAAAANSUhEUgAAABMAAAF8CAYAAAAthYD3AAAB9UlEQVR4nO2d0Q3CUAwD80pZgv33LDOkuo+T7Axgcc9OXhAFzuf7ewaq+1BKM3OBWnOfw702VAzGnAjMC3UTPDMzptfNhnYtJsbMcBOdtGQ0xPcmGY1i7us+h9OLuTeLuRYTz7NirsXM86yYazEtZsjmiGKKQ0uKddKuSzyCxJism1zVzX2luBlzb4JiIVuQN7Qp9yYp5t2CtL2Z0wFcieeZ9wPmju29mBkTFPPeTvDY5qq9ua+Y0GLPKyW5yZW4N80jiBQDO6Ch3VfdfCEW4ubRusmGFhQTrwcpHWA9M7oDOE7x2E55V/eQbmJS8kuYOzP1CNJiWsXo0Ib0JoqpDS04g1J684BvBGg3wdCK1wMUM8RN0E76iSVy0mrdJA2ICS24OprdBDFzooFpmedZO2BdMCbbm5iWGjOlNzGtuvmi7klxUyoGu1nMtVgMpvWJpWK+EbNikgagZ0a7ST6YpXUTxRSHlvzGX8iZzQX+WooXE55nVswhf/tGjMmObe7FiTHJaJgx6+a2xJjtzXWZMb1uspujFjNj2YO3IKub7E4rHkERbqaMoIzeZEMbEg32zIq5rGLuK+d2KuZarJjboj8P+HBiXsxO2hdiYkwytGLMCDdTRlDGhQJjctFQY1rdRP8oxIupDa14bKO3E5kzMabZTS60f+8bLrfzm19DAAAAAElFTkSuQmCC\" y=\"-7\"/>\r\n   <g id=\"matplotlib.axis_3\"/>\r\n   <g id=\"matplotlib.axis_4\">\r\n    <g id=\"ytick_6\">\r\n     <g id=\"line2d_11\">\r\n      <defs>\r\n       <path d=\"M 0 0 \r\nL 3.5 0 \r\n\" id=\"m009dd9e529\" style=\"stroke:#000000;stroke-width:0.8;\"/>\r\n      </defs>\r\n      <g>\r\n       <use style=\"stroke:#000000;stroke-width:0.8;\" x=\"517.204125\" xlink:href=\"#m009dd9e529\" y=\"341.024334\"/>\r\n      </g>\r\n     </g>\r\n     <g id=\"text_36\">\r\n      <!-- 50 -->\r\n      <g transform=\"translate(524.204125 344.823553)scale(0.1 -0.1)\">\r\n       <use xlink:href=\"#DejaVuSans-35\"/>\r\n       <use x=\"63.623047\" xlink:href=\"#DejaVuSans-30\"/>\r\n      </g>\r\n     </g>\r\n    </g>\r\n    <g id=\"ytick_7\">\r\n     <g id=\"line2d_12\">\r\n      <g>\r\n       <use style=\"stroke:#000000;stroke-width:0.8;\" x=\"517.204125\" xlink:href=\"#m009dd9e529\" y=\"291.348094\"/>\r\n      </g>\r\n     </g>\r\n     <g id=\"text_37\">\r\n      <!-- 100 -->\r\n      <g transform=\"translate(524.204125 295.147313)scale(0.1 -0.1)\">\r\n       <use xlink:href=\"#DejaVuSans-31\"/>\r\n       <use x=\"63.623047\" xlink:href=\"#DejaVuSans-30\"/>\r\n       <use x=\"127.246094\" xlink:href=\"#DejaVuSans-30\"/>\r\n      </g>\r\n     </g>\r\n    </g>\r\n    <g id=\"ytick_8\">\r\n     <g id=\"line2d_13\">\r\n      <g>\r\n       <use style=\"stroke:#000000;stroke-width:0.8;\" x=\"517.204125\" xlink:href=\"#m009dd9e529\" y=\"241.671854\"/>\r\n      </g>\r\n     </g>\r\n     <g id=\"text_38\">\r\n      <!-- 150 -->\r\n      <g transform=\"translate(524.204125 245.471073)scale(0.1 -0.1)\">\r\n       <use xlink:href=\"#DejaVuSans-31\"/>\r\n       <use x=\"63.623047\" xlink:href=\"#DejaVuSans-35\"/>\r\n       <use x=\"127.246094\" xlink:href=\"#DejaVuSans-30\"/>\r\n      </g>\r\n     </g>\r\n    </g>\r\n    <g id=\"ytick_9\">\r\n     <g id=\"line2d_14\">\r\n      <g>\r\n       <use style=\"stroke:#000000;stroke-width:0.8;\" x=\"517.204125\" xlink:href=\"#m009dd9e529\" y=\"191.995614\"/>\r\n      </g>\r\n     </g>\r\n     <g id=\"text_39\">\r\n      <!-- 200 -->\r\n      <g transform=\"translate(524.204125 195.794832)scale(0.1 -0.1)\">\r\n       <use xlink:href=\"#DejaVuSans-32\"/>\r\n       <use x=\"63.623047\" xlink:href=\"#DejaVuSans-30\"/>\r\n       <use x=\"127.246094\" xlink:href=\"#DejaVuSans-30\"/>\r\n      </g>\r\n     </g>\r\n    </g>\r\n    <g id=\"ytick_10\">\r\n     <g id=\"line2d_15\">\r\n      <g>\r\n       <use style=\"stroke:#000000;stroke-width:0.8;\" x=\"517.204125\" xlink:href=\"#m009dd9e529\" y=\"142.319373\"/>\r\n      </g>\r\n     </g>\r\n     <g id=\"text_40\">\r\n      <!-- 250 -->\r\n      <g transform=\"translate(524.204125 146.118592)scale(0.1 -0.1)\">\r\n       <use xlink:href=\"#DejaVuSans-32\"/>\r\n       <use x=\"63.623047\" xlink:href=\"#DejaVuSans-35\"/>\r\n       <use x=\"127.246094\" xlink:href=\"#DejaVuSans-30\"/>\r\n      </g>\r\n     </g>\r\n    </g>\r\n    <g id=\"ytick_11\">\r\n     <g id=\"line2d_16\">\r\n      <g>\r\n       <use style=\"stroke:#000000;stroke-width:0.8;\" x=\"517.204125\" xlink:href=\"#m009dd9e529\" y=\"92.643133\"/>\r\n      </g>\r\n     </g>\r\n     <g id=\"text_41\">\r\n      <!-- 300 -->\r\n      <g transform=\"translate(524.204125 96.442352)scale(0.1 -0.1)\">\r\n       <use xlink:href=\"#DejaVuSans-33\"/>\r\n       <use x=\"63.623047\" xlink:href=\"#DejaVuSans-30\"/>\r\n       <use x=\"127.246094\" xlink:href=\"#DejaVuSans-30\"/>\r\n      </g>\r\n     </g>\r\n    </g>\r\n    <g id=\"ytick_12\">\r\n     <g id=\"line2d_17\">\r\n      <g>\r\n       <use style=\"stroke:#000000;stroke-width:0.8;\" x=\"517.204125\" xlink:href=\"#m009dd9e529\" y=\"42.966893\"/>\r\n      </g>\r\n     </g>\r\n     <g id=\"text_42\">\r\n      <!-- 350 -->\r\n      <g transform=\"translate(524.204125 46.766112)scale(0.1 -0.1)\">\r\n       <use xlink:href=\"#DejaVuSans-33\"/>\r\n       <use x=\"63.623047\" xlink:href=\"#DejaVuSans-35\"/>\r\n       <use x=\"127.246094\" xlink:href=\"#DejaVuSans-30\"/>\r\n      </g>\r\n     </g>\r\n    </g>\r\n   </g>\r\n   <g id=\"LineCollection_1\"/>\r\n   <g id=\"patch_5\">\r\n    <path d=\"M 498.178125 387.72 \r\nL 498.178125 386.233594 \r\nL 498.178125 8.686406 \r\nL 498.178125 7.2 \r\nL 517.204125 7.2 \r\nL 517.204125 8.686406 \r\nL 517.204125 386.233594 \r\nL 517.204125 387.72 \r\nz\r\n\" style=\"fill:none;\"/>\r\n   </g>\r\n  </g>\r\n </g>\r\n <defs>\r\n  <clipPath id=\"p1ea706d433\">\r\n   <rect height=\"380.52\" width=\"446.4\" x=\"23.878125\" y=\"7.2\"/>\r\n  </clipPath>\r\n  <clipPath id=\"pba6a96b10f\">\r\n   <rect height=\"380.52\" width=\"19.026\" x=\"498.178125\" y=\"7.2\"/>\r\n  </clipPath>\r\n </defs>\r\n</svg>\r\n",
      "image/png": "[encoded data removed]"
     },
     "metadata": {
      "needs_background": "light"
     }
    }
   ],
   "source": [
    "_,test_preds=test_metrics(test_dataloader)"
   ]
  },
  {
   "cell_type": "code",
   "execution_count": 225,
   "metadata": {},
   "outputs": [
    {
     "output_type": "execute_result",
     "data": {
      "text/plain": [
       "tensor([2, 3, 4,  ..., 4, 3, 0])"
      ]
     },
     "metadata": {},
     "execution_count": 225
    }
   ],
   "source": [
    "torch.tensor(test_df['label'])"
   ]
  },
  {
   "cell_type": "code",
   "execution_count": 226,
   "metadata": {},
   "outputs": [
    {
     "output_type": "stream",
     "name": "stdout",
     "text": [
      "0.4411764705882353\n"
     ]
    }
   ],
   "source": [
    "print(accuracy_score(torch.tensor(test_df['label']),test_preds))"
   ]
  }
 ]
}